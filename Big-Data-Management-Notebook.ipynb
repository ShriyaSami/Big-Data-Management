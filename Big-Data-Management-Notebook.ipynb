{
  "nbformat": 4,
  "nbformat_minor": 0,
  "metadata": {
    "colab": {
      "provenance": [],
      "collapsed_sections": [
        "wfcbjZ5IzwPl",
        "WUs7g15adsH5",
        "da31gR6BPVY_",
        "FWi3EHZ-PSxh",
        "5mnVpJrxU_Y1",
        "dvIYCc0Hq5PX",
        "zbsk18JCrBfw",
        "PxwBW-5NrgNa",
        "NzOOvyrbrhOi",
        "pia518rkriSs",
        "tfBoSmUPri53",
        "jOsZvO98rkje",
        "Y3ZdlkAlrlKW",
        "3Hv8q54grlqz",
        "HXYB6CKOXCiM",
        "NKR2hOaZXJmH",
        "nfuhDt72YUwL",
        "Gr4Ts-4xYeWE",
        "C1t3cKqoYpem",
        "c_X0G4RcYzRe",
        "2brhKgaDY_L3",
        "0-1MOJDkgjHM",
        "HkAsDnaeNhkW",
        "Eq-cSv1cfmC1",
        "uIsPyNYsmR2u",
        "6q1a7wEWjJ1q",
        "gPnB8HI774kD",
        "bdtbah7l78q7",
        "Bjqn7CcHkTyh",
        "SIyfwO00mhrc",
        "k_KEQ81Bf8W0",
        "Qd18W--LoeZd",
        "NyACIa0dKIeC",
        "aG_ulq8X8tNu",
        "hHekMK_GKUxf",
        "1wqbSdD3PWBc",
        "C9U1MeOfQ675",
        "Bc3PRIKNQ68F"
      ]
    },
    "kernelspec": {
      "name": "python3",
      "display_name": "Python 3"
    },
    "language_info": {
      "name": "python"
    }
  },
  "cells": [
    {
      "cell_type": "code",
      "execution_count": null,
      "metadata": {
        "colab": {
          "base_uri": "https://localhost:8080/"
        },
        "id": "QXlMGQPjdvKp",
        "outputId": "2a302bd1-2567-4daa-fd63-e20cf082647a"
      },
      "outputs": [
        {
          "output_type": "stream",
          "name": "stdout",
          "text": [
            "Drive already mounted at /content/drive; to attempt to forcibly remount, call drive.mount(\"/content/drive\", force_remount=True).\n"
          ]
        }
      ],
      "source": [
        "#Mounting the Google Drive\n",
        "from google.colab import drive\n",
        "drive.mount('/content/drive')"
      ]
    },
    {
      "cell_type": "code",
      "source": [
        "#Required installations and downloads\n",
        "\n",
        "#Download Java\n",
        "!apt-get install openjdk-8-jdk-headless\n",
        "\n",
        "#Download Apache Spark and Hadoop\n",
        "!wget https://archive.apache.org/dist/spark/spark-3.2.1/spark-3.2.1-bin-hadoop2.7.tgz\n",
        "\n",
        "#Install findspark library\n",
        "!pip install -q findspark\n",
        "\n",
        "#Install pycountry-convert 0.7.2 package\n",
        "!pip install pycountry-convert==0.7.2"
      ],
      "metadata": {
        "colab": {
          "base_uri": "https://localhost:8080/"
        },
        "id": "as6DoeZqenzr",
        "outputId": "c36a8d08-d07c-486a-f707-5e526caacf79"
      },
      "execution_count": null,
      "outputs": [
        {
          "output_type": "stream",
          "name": "stdout",
          "text": [
            "Reading package lists... Done\n",
            "Building dependency tree... Done\n",
            "Reading state information... Done\n",
            "openjdk-8-jdk-headless is already the newest version (8u402-ga-2ubuntu1~22.04).\n",
            "0 upgraded, 0 newly installed, 0 to remove and 45 not upgraded.\n",
            "--2024-05-14 20:02:16--  https://archive.apache.org/dist/spark/spark-3.2.1/spark-3.2.1-bin-hadoop2.7.tgz\n",
            "Resolving archive.apache.org (archive.apache.org)... 65.108.204.189, 2a01:4f9:1a:a084::2\n",
            "Connecting to archive.apache.org (archive.apache.org)|65.108.204.189|:443... connected.\n",
            "HTTP request sent, awaiting response... 200 OK\n",
            "Length: 272637746 (260M) [application/x-gzip]\n",
            "Saving to: ‘spark-3.2.1-bin-hadoop2.7.tgz.1’\n",
            "\n",
            "spark-3.2.1-bin-had 100%[===================>] 260.01M  10.3MB/s    in 27s     \n",
            "\n",
            "2024-05-14 20:02:44 (9.74 MB/s) - ‘spark-3.2.1-bin-hadoop2.7.tgz.1’ saved [272637746/272637746]\n",
            "\n",
            "Requirement already satisfied: pycountry-convert==0.7.2 in /usr/local/lib/python3.10/dist-packages (0.7.2)\n",
            "Requirement already satisfied: pprintpp>=0.3.0 in /usr/local/lib/python3.10/dist-packages (from pycountry-convert==0.7.2) (0.4.0)\n",
            "Requirement already satisfied: pycountry>=16.11.27.1 in /usr/local/lib/python3.10/dist-packages (from pycountry-convert==0.7.2) (23.12.11)\n",
            "Requirement already satisfied: pytest>=3.4.0 in /usr/local/lib/python3.10/dist-packages (from pycountry-convert==0.7.2) (7.4.4)\n",
            "Requirement already satisfied: pytest-mock>=1.6.3 in /usr/local/lib/python3.10/dist-packages (from pycountry-convert==0.7.2) (3.14.0)\n",
            "Requirement already satisfied: pytest-cov>=2.5.1 in /usr/local/lib/python3.10/dist-packages (from pycountry-convert==0.7.2) (5.0.0)\n",
            "Requirement already satisfied: repoze.lru>=0.7 in /usr/local/lib/python3.10/dist-packages (from pycountry-convert==0.7.2) (0.7)\n",
            "Requirement already satisfied: wheel>=0.30.0 in /usr/local/lib/python3.10/dist-packages (from pycountry-convert==0.7.2) (0.43.0)\n",
            "Requirement already satisfied: iniconfig in /usr/local/lib/python3.10/dist-packages (from pytest>=3.4.0->pycountry-convert==0.7.2) (2.0.0)\n",
            "Requirement already satisfied: packaging in /usr/local/lib/python3.10/dist-packages (from pytest>=3.4.0->pycountry-convert==0.7.2) (24.0)\n",
            "Requirement already satisfied: pluggy<2.0,>=0.12 in /usr/local/lib/python3.10/dist-packages (from pytest>=3.4.0->pycountry-convert==0.7.2) (1.5.0)\n",
            "Requirement already satisfied: exceptiongroup>=1.0.0rc8 in /usr/local/lib/python3.10/dist-packages (from pytest>=3.4.0->pycountry-convert==0.7.2) (1.2.1)\n",
            "Requirement already satisfied: tomli>=1.0.0 in /usr/local/lib/python3.10/dist-packages (from pytest>=3.4.0->pycountry-convert==0.7.2) (2.0.1)\n",
            "Requirement already satisfied: coverage[toml]>=5.2.1 in /usr/local/lib/python3.10/dist-packages (from pytest-cov>=2.5.1->pycountry-convert==0.7.2) (7.5.1)\n"
          ]
        }
      ]
    },
    {
      "cell_type": "code",
      "source": [
        "#Required imports\n",
        "import os\n",
        "\n",
        "import findspark\n",
        "\n",
        "import pandas as pd\n",
        "import numpy as np\n",
        "import seaborn as sns\n",
        "import matplotlib.pyplot as plt"
      ],
      "metadata": {
        "id": "gCyZQPPQexkF"
      },
      "execution_count": null,
      "outputs": []
    },
    {
      "cell_type": "markdown",
      "source": [
        "# PySpark (Python API for Apache Spark) - Set Up"
      ],
      "metadata": {
        "id": "wfcbjZ5IzwPl"
      }
    },
    {
      "cell_type": "code",
      "source": [
        "#Unzip folder\n",
        "!tar xf /content/spark-3.2.1-bin-hadoop2.7.tgz"
      ],
      "metadata": {
        "id": "z5xNgbV7cnsg"
      },
      "execution_count": null,
      "outputs": []
    },
    {
      "cell_type": "code",
      "source": [
        "#Set environment path to run PySpark\n",
        "os.environ[\"JAVA_HOME\"] = \"/usr/lib/jvm/java-8-openjdk-amd64\"\n",
        "os.environ[\"SPARK_HOME\"] = \"/content/spark-3.2.1-bin-hadoop2.7\""
      ],
      "metadata": {
        "id": "jgQToPBAynwk"
      },
      "execution_count": null,
      "outputs": []
    },
    {
      "cell_type": "code",
      "source": [
        "#To locate Spark\n",
        "findspark.init()\n",
        "findspark.find()"
      ],
      "metadata": {
        "id": "tmi347kSyx3P",
        "colab": {
          "base_uri": "https://localhost:8080/"
        },
        "outputId": "59f7affc-71fa-4e90-cb38-60cefd6a581f"
      },
      "execution_count": null,
      "outputs": [
        {
          "output_type": "execute_result",
          "data": {
            "text/plain": [
              "'/content/spark-3.2.1-bin-hadoop2.7'"
            ],
            "application/vnd.google.colaboratory.intrinsic+json": {
              "type": "string"
            }
          },
          "metadata": {},
          "execution_count": 6
        }
      ]
    },
    {
      "cell_type": "code",
      "source": [
        "#Required PySpark imports\n",
        "from pyspark.sql import SparkSession\n",
        "from pyspark import SparkContext\n",
        "from pyspark.sql.functions import *\n",
        "from pyspark.ml.feature import StringIndexer\n",
        "from pyspark.sql.types import IntegerType\n",
        "from pyspark.sql.functions import col\n",
        "from pyspark.ml.feature import VectorAssembler\n",
        "from pyspark.ml.classification import DecisionTreeClassifier\n",
        "from pycountry_convert import country_alpha2_to_continent_code\n",
        "from pyspark.sql.functions import udf\n",
        "from pyspark.sql.types import StringType\n",
        "import pyspark.sql.functions as F\n",
        "from pyspark.ml.classification import RandomForestClassifier\n",
        "from pyspark.ml.classification import LogisticRegression\n",
        "from pyspark.ml.evaluation import MulticlassClassificationEvaluator\n",
        "from pyspark.mllib.evaluation import MulticlassMetrics\n",
        "from pyspark.sql.functions import col, when"
      ],
      "metadata": {
        "id": "ImD4erBwBWs7"
      },
      "execution_count": null,
      "outputs": []
    },
    {
      "cell_type": "code",
      "source": [
        "#Create SparkSession - entry point to Spark\n",
        "spark = SparkSession.builder\\\n",
        "  .master(\"local\")\\\n",
        "  .appName(\"Assessment\")\\\n",
        "  .config('spark.ui.port', '4050')\\\n",
        "  .getOrCreate()"
      ],
      "metadata": {
        "id": "12bxvP-_zSul"
      },
      "execution_count": null,
      "outputs": []
    },
    {
      "cell_type": "code",
      "source": [
        "#Print Spark Session variable\n",
        "spark"
      ],
      "metadata": {
        "id": "5UW4ysXPzpsg",
        "colab": {
          "base_uri": "https://localhost:8080/"
        },
        "outputId": "4708ce56-9a36-44c2-8376-bc6b8307794d"
      },
      "execution_count": null,
      "outputs": [
        {
          "output_type": "execute_result",
          "data": {
            "text/plain": [
              "<pyspark.sql.session.SparkSession at 0x7ef55db976d0>"
            ],
            "text/html": [
              "\n",
              "            <div>\n",
              "                <p><b>SparkSession - in-memory</b></p>\n",
              "                \n",
              "        <div>\n",
              "            <p><b>SparkContext</b></p>\n",
              "\n",
              "            <p><a href=\"http://28811850fa2e:4050\">Spark UI</a></p>\n",
              "\n",
              "            <dl>\n",
              "              <dt>Version</dt>\n",
              "                <dd><code>v3.2.1</code></dd>\n",
              "              <dt>Master</dt>\n",
              "                <dd><code>local</code></dd>\n",
              "              <dt>AppName</dt>\n",
              "                <dd><code>Assessment</code></dd>\n",
              "            </dl>\n",
              "        </div>\n",
              "        \n",
              "            </div>\n",
              "        "
            ]
          },
          "metadata": {},
          "execution_count": 9
        }
      ]
    },
    {
      "cell_type": "markdown",
      "source": [
        "# Data Loading"
      ],
      "metadata": {
        "id": "WUs7g15adsH5"
      }
    },
    {
      "cell_type": "markdown",
      "source": [
        "### Flamingo Data"
      ],
      "metadata": {
        "id": "da31gR6BPVY_"
      }
    },
    {
      "cell_type": "code",
      "source": [
        "ad_clicks_df = spark.read.csv(\"/content/drive/MyDrive/Colab Notebooks/CMP7203 Big Data Management/Catch-Pink-Flamingo-Game Dataset/flamingo-data/ad-clicks.csv\", header=True, inferSchema=True)"
      ],
      "metadata": {
        "id": "I6oAq2h1epiA"
      },
      "execution_count": null,
      "outputs": []
    },
    {
      "cell_type": "code",
      "source": [
        "buy_clicks_df = spark.read.csv(\"/content/drive/MyDrive/Colab Notebooks/CMP7203 Big Data Management/Catch-Pink-Flamingo-Game Dataset/flamingo-data/buy-clicks.csv\", header=True, inferSchema=True)"
      ],
      "metadata": {
        "id": "lwieoj8De1JN"
      },
      "execution_count": null,
      "outputs": []
    },
    {
      "cell_type": "code",
      "source": [
        "game_clicks_df = spark.read.csv(\"/content/drive/MyDrive/Colab Notebooks/CMP7203 Big Data Management/Catch-Pink-Flamingo-Game Dataset/flamingo-data/game-clicks.csv\", header=True, inferSchema=True)"
      ],
      "metadata": {
        "id": "wmrNqV-ee8PW"
      },
      "execution_count": null,
      "outputs": []
    },
    {
      "cell_type": "code",
      "source": [
        "level_events_df = spark.read.csv(\"/content/drive/MyDrive/Colab Notebooks/CMP7203 Big Data Management/Catch-Pink-Flamingo-Game Dataset/flamingo-data/level-events.csv\", header=True, inferSchema=True)"
      ],
      "metadata": {
        "id": "o-QSw9LQfGee"
      },
      "execution_count": null,
      "outputs": []
    },
    {
      "cell_type": "code",
      "source": [
        "team_assignments_df = spark.read.csv(\"/content/drive/MyDrive/Colab Notebooks/CMP7203 Big Data Management/Catch-Pink-Flamingo-Game Dataset/flamingo-data/team-assignments.csv\", header=True, inferSchema=True)"
      ],
      "metadata": {
        "id": "8CZh6UaQfOnq"
      },
      "execution_count": null,
      "outputs": []
    },
    {
      "cell_type": "code",
      "source": [
        "team_df = spark.read.csv(\"/content/drive/MyDrive/Colab Notebooks/CMP7203 Big Data Management/Catch-Pink-Flamingo-Game Dataset/flamingo-data/team.csv\", header=True, inferSchema=True)"
      ],
      "metadata": {
        "id": "AYtU1FjWfXsp"
      },
      "execution_count": null,
      "outputs": []
    },
    {
      "cell_type": "code",
      "source": [
        "user_session_df = spark.read.csv(\"/content/drive/MyDrive/Colab Notebooks/CMP7203 Big Data Management/Catch-Pink-Flamingo-Game Dataset/flamingo-data/user-session.csv\", header=True, inferSchema=True)"
      ],
      "metadata": {
        "id": "oAbrcwF0fd_P"
      },
      "execution_count": null,
      "outputs": []
    },
    {
      "cell_type": "code",
      "source": [
        "users_df = spark.read.csv(\"/content/drive/MyDrive/Colab Notebooks/CMP7203 Big Data Management/Catch-Pink-Flamingo-Game Dataset/flamingo-data/users.csv\", header=True, inferSchema=True)"
      ],
      "metadata": {
        "id": "aacuIMVAfeST"
      },
      "execution_count": null,
      "outputs": []
    },
    {
      "cell_type": "markdown",
      "source": [
        "### Chat Data"
      ],
      "metadata": {
        "id": "FWi3EHZ-PSxh"
      }
    },
    {
      "cell_type": "code",
      "source": [
        "create_team_chat_df = spark.read.csv(\"/content/drive/MyDrive/Colab Notebooks/CMP7203 Big Data Management/Catch-Pink-Flamingo-Game Dataset/chat-data/chat_create_team_chat.csv\", header=True, inferSchema=True)"
      ],
      "metadata": {
        "id": "XP_eICmHfx8l"
      },
      "execution_count": null,
      "outputs": []
    },
    {
      "cell_type": "code",
      "source": [
        "item_team_chat_df = spark.read.csv(\"/content/drive/MyDrive/Colab Notebooks/CMP7203 Big Data Management/Catch-Pink-Flamingo-Game Dataset/chat-data/chat_item_team_chat.csv\", header=True, inferSchema=True)"
      ],
      "metadata": {
        "id": "kwRe_jYlf0-k"
      },
      "execution_count": null,
      "outputs": []
    },
    {
      "cell_type": "code",
      "source": [
        "join_team_chat_df = spark.read.csv(\"/content/drive/MyDrive/Colab Notebooks/CMP7203 Big Data Management/Catch-Pink-Flamingo-Game Dataset/chat-data/chat_join_team_chat.csv\", header=True, inferSchema=True)"
      ],
      "metadata": {
        "id": "ipKSWygSf1YB"
      },
      "execution_count": null,
      "outputs": []
    },
    {
      "cell_type": "code",
      "source": [
        "leave_team_chat_df = spark.read.csv(\"/content/drive/MyDrive/Colab Notebooks/CMP7203 Big Data Management/Catch-Pink-Flamingo-Game Dataset/chat-data/chat_leave_team_chat.csv\", header=True, inferSchema=True)"
      ],
      "metadata": {
        "id": "3HGvMFTwf2kZ"
      },
      "execution_count": null,
      "outputs": []
    },
    {
      "cell_type": "code",
      "source": [
        "mention_team_chat_df = spark.read.csv(\"/content/drive/MyDrive/Colab Notebooks/CMP7203 Big Data Management/Catch-Pink-Flamingo-Game Dataset/chat-data/chat_mention_team_chat.csv\", header=True, inferSchema=True)"
      ],
      "metadata": {
        "id": "ee5AUCQ4f3Cp"
      },
      "execution_count": null,
      "outputs": []
    },
    {
      "cell_type": "code",
      "source": [
        "respond_team_chat_df = spark.read.csv(\"/content/drive/MyDrive/Colab Notebooks/CMP7203 Big Data Management/Catch-Pink-Flamingo-Game Dataset/chat-data/chat_respond_team_chat.csv\", header=True, inferSchema=True)"
      ],
      "metadata": {
        "id": "xlM093Tef3iT"
      },
      "execution_count": null,
      "outputs": []
    },
    {
      "cell_type": "markdown",
      "source": [
        "# Exploratory Data Analysis"
      ],
      "metadata": {
        "id": "5mnVpJrxU_Y1"
      }
    },
    {
      "cell_type": "markdown",
      "source": [
        "## EDA on Flamingo Data"
      ],
      "metadata": {
        "id": "dvIYCc0Hq5PX"
      }
    },
    {
      "cell_type": "markdown",
      "source": [
        "### EDA on ad_clicks_df"
      ],
      "metadata": {
        "id": "zbsk18JCrBfw"
      }
    },
    {
      "cell_type": "code",
      "source": [
        "#Check schema of dataframe\n",
        "ad_clicks_df.printSchema()"
      ],
      "metadata": {
        "colab": {
          "base_uri": "https://localhost:8080/"
        },
        "id": "BkOIFNOOq4q6",
        "outputId": "ec63c8ee-8f0f-446f-9cdd-97aa680d0d18"
      },
      "execution_count": null,
      "outputs": [
        {
          "output_type": "stream",
          "name": "stdout",
          "text": [
            "root\n",
            " |-- timestamp: string (nullable = true)\n",
            " |-- txId: integer (nullable = true)\n",
            " |-- userSessionId: integer (nullable = true)\n",
            " |-- teamId: integer (nullable = true)\n",
            " |-- userId: integer (nullable = true)\n",
            " |-- adId: integer (nullable = true)\n",
            " |-- adCategory: string (nullable = true)\n",
            "\n"
          ]
        }
      ]
    },
    {
      "cell_type": "code",
      "source": [
        "#Show top 5 rows of ad_clicks_df dataframe\n",
        "ad_clicks_df.show(5)"
      ],
      "metadata": {
        "colab": {
          "base_uri": "https://localhost:8080/"
        },
        "id": "VKIWCzzyq1lu",
        "outputId": "c6f8769c-2c87-471d-cab5-6c2689e7f7c1"
      },
      "execution_count": null,
      "outputs": [
        {
          "output_type": "stream",
          "name": "stdout",
          "text": [
            "+-------------------+----+-------------+------+------+----+-----------+\n",
            "|          timestamp|txId|userSessionId|teamId|userId|adId| adCategory|\n",
            "+-------------------+----+-------------+------+------+----+-----------+\n",
            "|2016-05-26 15:13:22|5974|         5809|    27|   611|   2|electronics|\n",
            "|2016-05-26 15:17:24|5976|         5705|    18|  1874|  21|     movies|\n",
            "|2016-05-26 15:22:52|5978|         5791|    53|  2139|  25|  computers|\n",
            "|2016-05-26 15:22:57|5973|         5756|    63|   212|  10|    fashion|\n",
            "|2016-05-26 15:22:58|5980|         5920|     9|  1027|  20|   clothing|\n",
            "+-------------------+----+-------------+------+------+----+-----------+\n",
            "only showing top 5 rows\n",
            "\n"
          ]
        }
      ]
    },
    {
      "cell_type": "code",
      "source": [
        "#Convert ad_clicks_df to Pandas dataframe for visualisations\n",
        "ad_clicks_pd_df = ad_clicks_df.toPandas()"
      ],
      "metadata": {
        "id": "jt73Nbqfr8CL"
      },
      "execution_count": null,
      "outputs": []
    },
    {
      "cell_type": "code",
      "source": [
        "#Function to display a pie chart representation adCategory\n",
        "def items_piechart(data):\n",
        "  item_counts = data['adCategory'].value_counts()\n",
        "  plt.figure(figsize=(10,5))\n",
        "  plt.pie(item_counts, labels=item_counts.index, autopct='%1.1f%%', startangle=140)\n",
        "  plt.title(\"Pie chart to show proportion of clicks per adCategory\",fontsize=18)\n",
        "  plt.axis('equal')\n",
        "  plt.show()\n",
        "\n",
        "items_piechart(ad_clicks_pd_df)"
      ],
      "metadata": {
        "colab": {
          "base_uri": "https://localhost:8080/"
        },
        "id": "hugFwT-CrtBB",
        "outputId": "155bee70-75eb-4fab-f9ef-377e4b4e17a6"
      },
      "execution_count": null,
      "outputs": [
        {
          "output_type": "display_data",
          "data": {
            "text/plain": [
              "<Figure size 1000x500 with 1 Axes>"
            ],
            "image/png": "[encoded data removed]"
          },
          "metadata": {}
        }
      ]
    },
    {
      "cell_type": "markdown",
      "source": [
        "### EDA on buy_clicks_df"
      ],
      "metadata": {
        "id": "PxwBW-5NrgNa"
      }
    },
    {
      "cell_type": "code",
      "source": [
        "#Check schema of dataframe\n",
        "buy_clicks_df.printSchema()"
      ],
      "metadata": {
        "colab": {
          "base_uri": "https://localhost:8080/"
        },
        "outputId": "8940fa87-dd9e-4812-aa44-732512c61158",
        "id": "Mwf_LJVYrgNo"
      },
      "execution_count": null,
      "outputs": [
        {
          "output_type": "stream",
          "name": "stdout",
          "text": [
            "root\n",
            " |-- timestamp: string (nullable = true)\n",
            " |-- txId: integer (nullable = true)\n",
            " |-- userSessionId: integer (nullable = true)\n",
            " |-- team: integer (nullable = true)\n",
            " |-- userId: integer (nullable = true)\n",
            " |-- buyId: integer (nullable = true)\n",
            " |-- price: double (nullable = true)\n",
            "\n"
          ]
        }
      ]
    },
    {
      "cell_type": "code",
      "source": [
        "#Show top 5 rows of buy_clicks_df dataframe\n",
        "buy_clicks_df.show(5)"
      ],
      "metadata": {
        "colab": {
          "base_uri": "https://localhost:8080/"
        },
        "outputId": "ed6de4f6-9f7d-46c4-823b-dcc6ea2b95ee",
        "id": "ya-lPba4rgNo"
      },
      "execution_count": null,
      "outputs": [
        {
          "output_type": "stream",
          "name": "stdout",
          "text": [
            "+-------------------+----+-------------+----+------+-----+-----+\n",
            "|          timestamp|txId|userSessionId|team|userId|buyId|price|\n",
            "+-------------------+----+-------------+----+------+-----+-----+\n",
            "|2016-05-26 15:36:54|6004|         5820|   9|  1300|    2|  3.0|\n",
            "|2016-05-26 15:36:54|6005|         5775|  35|   868|    4| 10.0|\n",
            "|2016-05-26 15:36:54|6006|         5679|  97|   819|    5| 20.0|\n",
            "|2016-05-26 16:36:54|6067|         5665|  18|   121|    2|  3.0|\n",
            "|2016-05-26 17:06:54|6093|         5709|  11|  2222|    5| 20.0|\n",
            "+-------------------+----+-------------+----+------+-----+-----+\n",
            "only showing top 5 rows\n",
            "\n"
          ]
        }
      ]
    },
    {
      "cell_type": "code",
      "source": [
        "#Convert buy_clicks_df to Pandas dataframe for visualisations\n",
        "buy_clicks_pd_df = buy_clicks_df.toPandas()"
      ],
      "metadata": {
        "id": "YxyyHBunt_eK"
      },
      "execution_count": null,
      "outputs": []
    },
    {
      "cell_type": "code",
      "source": [
        "#Function to display a count plot representation of the amount each item was purchased\n",
        "def items_countplot(data):\n",
        "  plt.figure(figsize=(10,5))\n",
        "  sns.countplot(x=data[\"buyId\"], data=data)\n",
        "  plt.title(\"Count plot to show the amount each item was purchased\",fontsize=18)\n",
        "  plt.xlabel(\"Item\",fontsize=12)\n",
        "  plt.ylabel(\"Amount purchased\",fontsize=12)\n",
        "  plt.show()\n",
        "\n",
        "items_countplot(buy_clicks_pd_df)"
      ],
      "metadata": {
        "colab": {
          "base_uri": "https://localhost:8080/"
        },
        "id": "v5ACoJqEuJYI",
        "outputId": "a85c643c-a14e-41ac-a199-d05a6f1256f3"
      },
      "execution_count": null,
      "outputs": [
        {
          "output_type": "display_data",
          "data": {
            "text/plain": [
              "<Figure size 1000x500 with 1 Axes>"
            ],
            "image/png": "[encoded data removed]"
          },
          "metadata": {}
        }
      ]
    },
    {
      "cell_type": "markdown",
      "source": [
        "### EDA on game_clicks_df"
      ],
      "metadata": {
        "id": "NzOOvyrbrhOi"
      }
    },
    {
      "cell_type": "code",
      "source": [
        "#Check schema of dataframe\n",
        "game_clicks_df.printSchema()"
      ],
      "metadata": {
        "colab": {
          "base_uri": "https://localhost:8080/"
        },
        "outputId": "b380f302-7687-4417-fb22-80be40cd6748",
        "id": "45M7pTN2rhOx"
      },
      "execution_count": null,
      "outputs": [
        {
          "output_type": "stream",
          "name": "stdout",
          "text": [
            "root\n",
            " |-- timestamp: string (nullable = true)\n",
            " |-- clickId: integer (nullable = true)\n",
            " |-- userId: integer (nullable = true)\n",
            " |-- userSessionId: integer (nullable = true)\n",
            " |-- isHit: integer (nullable = true)\n",
            " |-- teamId: integer (nullable = true)\n",
            " |-- teamLevel: integer (nullable = true)\n",
            "\n"
          ]
        }
      ]
    },
    {
      "cell_type": "code",
      "source": [
        "#Show top 5 rows of game_clicks_df dataframe\n",
        "game_clicks_df.show(5)"
      ],
      "metadata": {
        "colab": {
          "base_uri": "https://localhost:8080/"
        },
        "outputId": "327b9427-cbb8-4dfc-bf7c-2fc32a8dbde6",
        "id": "LKytVOjqrhOx"
      },
      "execution_count": null,
      "outputs": [
        {
          "output_type": "stream",
          "name": "stdout",
          "text": [
            "+-------------------+-------+------+-------------+-----+------+---------+\n",
            "|          timestamp|clickId|userId|userSessionId|isHit|teamId|teamLevel|\n",
            "+-------------------+-------+------+-------------+-----+------+---------+\n",
            "|2016-05-26 15:06:55|    105|  1038|         5916|    0|    25|        1|\n",
            "|2016-05-26 15:07:09|    154|  1099|         5898|    0|    44|        1|\n",
            "|2016-05-26 15:07:14|    229|   899|         5757|    0|    71|        1|\n",
            "|2016-05-26 15:07:14|    322|  2197|         5854|    0|    99|        1|\n",
            "|2016-05-26 15:07:20|     22|  1362|         5739|    0|    13|        1|\n",
            "+-------------------+-------+------+-------------+-----+------+---------+\n",
            "only showing top 5 rows\n",
            "\n"
          ]
        }
      ]
    },
    {
      "cell_type": "code",
      "source": [
        "#Convert game_clicks_df to Pandas dataframe for visualisations\n",
        "game_clicks_pd_df = game_clicks_df.toPandas()"
      ],
      "metadata": {
        "id": "4FHcJcT6yXeT"
      },
      "execution_count": null,
      "outputs": []
    },
    {
      "cell_type": "code",
      "source": [
        "#Function to display a count plot showing the number of clicks that are hits(1) or not(0)\n",
        "def hit_countplot(data):\n",
        "  plt.figure(figsize=(10,5))\n",
        "  sns.countplot(x=data[\"isHit\"], data=data)\n",
        "  plt.title(\"Count plot to show the number of clicks that are hits(1) or not(0)\",fontsize=18)\n",
        "  plt.xlabel(\"Whether the click was a hit(1) or not(0)\",fontsize=12)\n",
        "  plt.ylabel(\"Number of clicks\",fontsize=12)\n",
        "  plt.show()\n",
        "\n",
        "hit_countplot(game_clicks_pd_df)"
      ],
      "metadata": {
        "colab": {
          "base_uri": "https://localhost:8080/"
        },
        "id": "KLY8UzKdzIZ5",
        "outputId": "dd6f4e23-b96a-4693-ee6b-11b92d33b268"
      },
      "execution_count": null,
      "outputs": [
        {
          "output_type": "display_data",
          "data": {
            "text/plain": [
              "<Figure size 1000x500 with 1 Axes>"
            ],
            "image/png": "[encoded data removed]"
          },
          "metadata": {}
        }
      ]
    },
    {
      "cell_type": "markdown",
      "source": [
        "### EDA on level_events_df"
      ],
      "metadata": {
        "id": "pia518rkriSs"
      }
    },
    {
      "cell_type": "code",
      "source": [
        "#Check schema of dataframe\n",
        "level_events_df.printSchema()"
      ],
      "metadata": {
        "colab": {
          "base_uri": "https://localhost:8080/"
        },
        "outputId": "f33d8582-0a27-4388-8b31-efd3a40c100c",
        "id": "vzz1zoakriSt"
      },
      "execution_count": null,
      "outputs": [
        {
          "output_type": "stream",
          "name": "stdout",
          "text": [
            "root\n",
            " |-- timestamp: string (nullable = true)\n",
            " |-- eventId: integer (nullable = true)\n",
            " |-- teamId: integer (nullable = true)\n",
            " |-- teamLevel: integer (nullable = true)\n",
            " |-- eventType: string (nullable = true)\n",
            "\n"
          ]
        }
      ]
    },
    {
      "cell_type": "code",
      "source": [
        "#Show top 5 rows of level_events_df dataframe\n",
        "level_events_df.show(5)"
      ],
      "metadata": {
        "colab": {
          "base_uri": "https://localhost:8080/"
        },
        "outputId": "b7efaa22-a3f9-458a-fbe1-f2462778c50a",
        "id": "-Zz9uDh8riSt"
      },
      "execution_count": null,
      "outputs": [
        {
          "output_type": "stream",
          "name": "stdout",
          "text": [
            "+-------------------+-------+------+---------+---------+\n",
            "|          timestamp|eventId|teamId|teamLevel|eventType|\n",
            "+-------------------+-------+------+---------+---------+\n",
            "|2016-05-27 23:06:54|      0|     2|        1|      end|\n",
            "|2016-05-27 23:06:54|      1|     2|        2|    start|\n",
            "|2016-05-27 23:06:54|      2|     8|        1|      end|\n",
            "|2016-05-27 23:06:54|      3|     8|        2|    start|\n",
            "|2016-05-27 23:06:54|      4|     9|        1|      end|\n",
            "+-------------------+-------+------+---------+---------+\n",
            "only showing top 5 rows\n",
            "\n"
          ]
        }
      ]
    },
    {
      "cell_type": "markdown",
      "source": [
        "### EDA on team_assignments_df"
      ],
      "metadata": {
        "id": "tfBoSmUPri53"
      }
    },
    {
      "cell_type": "code",
      "source": [
        "#Check schema of dataframe\n",
        "team_assignments_df.printSchema()"
      ],
      "metadata": {
        "colab": {
          "base_uri": "https://localhost:8080/"
        },
        "outputId": "abbac2d0-f306-44bc-c1ad-366bbf5c09af",
        "id": "VulcYkvTri54"
      },
      "execution_count": null,
      "outputs": [
        {
          "output_type": "stream",
          "name": "stdout",
          "text": [
            "root\n",
            " |-- timestamp: string (nullable = true)\n",
            " |-- team: integer (nullable = true)\n",
            " |-- userId: integer (nullable = true)\n",
            " |-- assignmentId: integer (nullable = true)\n",
            "\n"
          ]
        }
      ]
    },
    {
      "cell_type": "code",
      "source": [
        "#Show top 5 rows of team_assignments_df dataframe\n",
        "team_assignments_df.show(5)"
      ],
      "metadata": {
        "colab": {
          "base_uri": "https://localhost:8080/"
        },
        "outputId": "15be53d1-ac1c-46d0-8f45-5377f38162df",
        "id": "CL2_75sIri54"
      },
      "execution_count": null,
      "outputs": [
        {
          "output_type": "stream",
          "name": "stdout",
          "text": [
            "+-------------------+----+------+------------+\n",
            "|          timestamp|team|userId|assignmentId|\n",
            "+-------------------+----+------+------------+\n",
            "|2016-05-26 14:06:54|  64|   504|        5439|\n",
            "|2016-05-26 14:07:00|  39|  1698|        5301|\n",
            "|2016-05-26 14:07:04|  85|    81|        5540|\n",
            "|2016-05-26 14:07:08|  95|  1976|        5307|\n",
            "|2016-05-26 14:07:09|  97|  1009|        5368|\n",
            "+-------------------+----+------+------------+\n",
            "only showing top 5 rows\n",
            "\n"
          ]
        }
      ]
    },
    {
      "cell_type": "markdown",
      "source": [
        "### EDA on team_df"
      ],
      "metadata": {
        "id": "jOsZvO98rkje"
      }
    },
    {
      "cell_type": "code",
      "source": [
        "#Check schema of dataframe\n",
        "team_df.printSchema()"
      ],
      "metadata": {
        "colab": {
          "base_uri": "https://localhost:8080/"
        },
        "outputId": "ed737a51-aa95-419d-bd6c-6d149f214328",
        "id": "JCrFefd1rkj5"
      },
      "execution_count": null,
      "outputs": [
        {
          "output_type": "stream",
          "name": "stdout",
          "text": [
            "root\n",
            " |-- teamId: integer (nullable = true)\n",
            " |-- name: string (nullable = true)\n",
            " |-- teamCreationTime: string (nullable = true)\n",
            " |-- teamEndTime: string (nullable = true)\n",
            " |-- strength: double (nullable = true)\n",
            " |-- currentLevel: integer (nullable = true)\n",
            "\n"
          ]
        }
      ]
    },
    {
      "cell_type": "code",
      "source": [
        "#Show top 5 rows of team_df dataframe\n",
        "team_df.show(5)"
      ],
      "metadata": {
        "colab": {
          "base_uri": "https://localhost:8080/"
        },
        "outputId": "391c13cf-7cd3-49db-a2ab-a58f2966273b",
        "id": "pFnCewKcrkj6"
      },
      "execution_count": null,
      "outputs": [
        {
          "output_type": "stream",
          "name": "stdout",
          "text": [
            "+------+----------+-------------------+-------------------+--------------+------------+\n",
            "|teamId|      name|   teamCreationTime|        teamEndTime|      strength|currentLevel|\n",
            "+------+----------+-------------------+-------------------+--------------+------------+\n",
            "|    79|   O1uJX7C|2016-06-12 15:33:27|9999-12-31 23:59:59|0.774473575316|           1|\n",
            "|    92|  WeLHp8HZ|2016-06-12 21:54:20|9999-12-31 23:59:59| 0.17192602642|           1|\n",
            "|     6|    mARlfz|2016-06-12 23:02:16|9999-12-31 23:59:59|0.537353043526|           1|\n",
            "|     7|xO41jlAo0Y|2016-06-13 06:03:03|9999-12-31 23:59:59|0.394370370549|           1|\n",
            "|    40|   vdwO0k1|2016-06-13 07:01:03|9999-12-31 23:59:59|0.706832959169|           1|\n",
            "+------+----------+-------------------+-------------------+--------------+------------+\n",
            "only showing top 5 rows\n",
            "\n"
          ]
        }
      ]
    },
    {
      "cell_type": "markdown",
      "source": [
        "### EDA on user_session_df"
      ],
      "metadata": {
        "id": "Y3ZdlkAlrlKW"
      }
    },
    {
      "cell_type": "code",
      "source": [
        "#Check schema of dataframe\n",
        "user_session_df.printSchema()"
      ],
      "metadata": {
        "colab": {
          "base_uri": "https://localhost:8080/"
        },
        "outputId": "4644c337-70e1-46c9-d28e-23db7a24ff5e",
        "id": "x6mmnRwcrlKX"
      },
      "execution_count": null,
      "outputs": [
        {
          "output_type": "stream",
          "name": "stdout",
          "text": [
            "root\n",
            " |-- timestamp: string (nullable = true)\n",
            " |-- userSessionId: integer (nullable = true)\n",
            " |-- userId: integer (nullable = true)\n",
            " |-- teamId: integer (nullable = true)\n",
            " |-- assignmentId: integer (nullable = true)\n",
            " |-- sessionType: string (nullable = true)\n",
            " |-- teamLevel: integer (nullable = true)\n",
            " |-- platformType: string (nullable = true)\n",
            "\n"
          ]
        }
      ]
    },
    {
      "cell_type": "code",
      "source": [
        "#Show top 5 rows of user_session_df dataframe\n",
        "user_session_df.show(5)"
      ],
      "metadata": {
        "colab": {
          "base_uri": "https://localhost:8080/"
        },
        "outputId": "3280cb40-8264-405a-fcb0-49191ba7dc88",
        "id": "9yMw8qcMrlKY"
      },
      "execution_count": null,
      "outputs": [
        {
          "output_type": "stream",
          "name": "stdout",
          "text": [
            "+-------------------+-------------+------+------+------------+-----------+---------+------------+\n",
            "|          timestamp|userSessionId|userId|teamId|assignmentId|sessionType|teamLevel|platformType|\n",
            "+-------------------+-------------+------+------+------------+-----------+---------+------------+\n",
            "|2016-05-26 14:47:30|         5675|   170|    90|        5423|      start|        1|      iphone|\n",
            "|2016-05-27 00:06:54|         5675|   170|    90|        5423|        end|        1|      iphone|\n",
            "|2016-05-26 14:43:09|         5795|   835|    39|        5300|      start|        1|     android|\n",
            "|2016-05-27 08:06:54|         5795|   835|    39|        5300|        end|        1|     android|\n",
            "|2016-05-26 14:47:20|         5833|   624|     2|        5529|      start|        1|      iphone|\n",
            "+-------------------+-------------+------+------+------------+-----------+---------+------------+\n",
            "only showing top 5 rows\n",
            "\n"
          ]
        }
      ]
    },
    {
      "cell_type": "code",
      "source": [
        "#Convert user_session_df to Pandas dataframe for visualisations\n",
        "user_session_pd_df = user_session_df.toPandas()"
      ],
      "metadata": {
        "id": "YK97-iGgyz-H"
      },
      "execution_count": null,
      "outputs": []
    },
    {
      "cell_type": "code",
      "source": [
        "#Function to display a bar plot representation of platformType\n",
        "def platformType_barplot(data):\n",
        "  plt.figure(figsize=(10,5))\n",
        "  sns.barplot(x=data[\"platformType\"].value_counts().values[0:10],\n",
        "              y=data[\"platformType\"].value_counts().index[0:10]);\n",
        "  plt.title(\"Barplot to show the number of users on each platform type\",fontsize=18)\n",
        "  plt.xlabel(\"Number of users on each platform\",fontsize=12)\n",
        "  plt.ylabel(\"Platform Type\",fontsize=12)\n",
        "  plt.show()\n",
        "\n",
        "platformType_barplot(user_session_pd_df)"
      ],
      "metadata": {
        "colab": {
          "base_uri": "https://localhost:8080/",
          "height": 496
        },
        "id": "Pba_zYggEsn5",
        "outputId": "edec70c9-5256-4dfe-dc57-9178cd8fd037"
      },
      "execution_count": null,
      "outputs": [
        {
          "output_type": "display_data",
          "data": {
            "text/plain": [
              "<Figure size 1000x500 with 1 Axes>"
            ],
            "image/png": "[encoded data removed]"
          },
          "metadata": {}
        }
      ]
    },
    {
      "cell_type": "code",
      "source": [
        "#Function to display a count plot representation of number of teams at each level\n",
        "def levels_countplot(data):\n",
        "  plt.figure(figsize=(10,5))\n",
        "  sns.countplot(x=data[\"teamLevel\"], data=data)\n",
        "  plt.title(\"Count plot to show number of teams at each level\",fontsize=18)\n",
        "  plt.xlabel(\"Number of teams on each level\",fontsize=12)\n",
        "  plt.show()\n",
        "\n",
        "levels_countplot(user_session_pd_df)"
      ],
      "metadata": {
        "colab": {
          "base_uri": "https://localhost:8080/",
          "height": 496
        },
        "id": "u2dcdVFTE1fN",
        "outputId": "d6843ee2-dfa1-4e04-8663-fd29d0a42b3d"
      },
      "execution_count": null,
      "outputs": [
        {
          "output_type": "display_data",
          "data": {
            "text/plain": [
              "<Figure size 1000x500 with 1 Axes>"
            ],
            "image/png": "[encoded data removed]"
          },
          "metadata": {}
        }
      ]
    },
    {
      "cell_type": "markdown",
      "source": [
        "### EDA on users_df"
      ],
      "metadata": {
        "id": "3Hv8q54grlqz"
      }
    },
    {
      "cell_type": "code",
      "source": [
        "#Check schema of dataframe\n",
        "users_df.printSchema()"
      ],
      "metadata": {
        "colab": {
          "base_uri": "https://localhost:8080/"
        },
        "outputId": "2ab80fec-82af-4c91-8e4c-2b0199df3bf0",
        "id": "xUagLp6prlq0"
      },
      "execution_count": null,
      "outputs": [
        {
          "output_type": "stream",
          "name": "stdout",
          "text": [
            "root\n",
            " |-- timestamp: string (nullable = true)\n",
            " |-- userId: integer (nullable = true)\n",
            " |-- nick: string (nullable = true)\n",
            " |-- twitter: string (nullable = true)\n",
            " |-- dob: string (nullable = true)\n",
            " |-- country: string (nullable = true)\n",
            "\n"
          ]
        }
      ]
    },
    {
      "cell_type": "code",
      "source": [
        "#Show top 5 rows of users_df dataframe\n",
        "users_df.show(5)"
      ],
      "metadata": {
        "colab": {
          "base_uri": "https://localhost:8080/"
        },
        "outputId": "ffbd8200-62ce-4a15-fcad-69ffb73b965c",
        "id": "J-bxWC7hrlq1"
      },
      "execution_count": null,
      "outputs": [
        {
          "output_type": "stream",
          "name": "stdout",
          "text": [
            "+-------------------+------+-----------+--------+----------+-------+\n",
            "|          timestamp|userId|       nick| twitter|       dob|country|\n",
            "+-------------------+------+-----------+--------+----------+-------+\n",
            "|2012-06-19 14:53:41|   442|   pcjIOBKW|@SZhyOHv|1994-07-20|     BA|\n",
            "|2012-06-19 19:29:01|   949|    vAOfUkf|  @nkkNo|1971-04-22|     HU|\n",
            "|2012-06-20 19:34:59|  1654|     qOOXSQ|  @SwOlw|1970-04-19|     IS|\n",
            "|2012-06-21 01:18:29|  1586|    px4gW51|@IrCHTnE|1965-11-23|     AM|\n",
            "|2012-06-21 15:35:00|   599|9gkfwRC73Uc| @VJj0Az|1994-08-23|     CC|\n",
            "+-------------------+------+-----------+--------+----------+-------+\n",
            "only showing top 5 rows\n",
            "\n"
          ]
        }
      ]
    },
    {
      "cell_type": "code",
      "source": [
        "#Convert users_df to Pandas dataframe for visualisations\n",
        "users_pd_df = users_df.toPandas()"
      ],
      "metadata": {
        "id": "GF9UMqh6y1FH"
      },
      "execution_count": null,
      "outputs": []
    },
    {
      "cell_type": "code",
      "source": [
        "#Extracting dob and converting to datetime\n",
        "users_pd_df['dob'] = pd.to_datetime(users_pd_df['dob'], format='mixed', errors='coerce')\n",
        "\n",
        "#Extracting the year from dob\n",
        "users_pd_df['dob'] = users_pd_df['dob'].dt.year\n",
        "dob_df = users_pd_df['dob']\n",
        "\n",
        "#Createing a DataFrame from the list\n",
        "dob_df = spark.createDataFrame([(value,) for value in dob_df], [\"year\"])\n",
        "\n",
        "#Grouping by year and count occurrences\n",
        "grouped_df = dob_df.groupBy(\"year\").count().orderBy(\"year\")\n",
        "\n",
        "#Converting Spark DataFrame to Pandas DataFrame\n",
        "pandas_df = grouped_df.toPandas()"
      ],
      "metadata": {
        "id": "cEizYEAC18sW"
      },
      "execution_count": null,
      "outputs": []
    },
    {
      "cell_type": "code",
      "source": [
        "#Plotting the number of users born in each year\n",
        "plt.figure(figsize=(10, 6))\n",
        "plt.scatter(pandas_df[\"year\"], pandas_df[\"count\"], color='skyblue', label='Data Points')\n",
        "plt.xlabel(\"Year\")\n",
        "plt.ylabel(\"Number of Users\")\n",
        "plt.title(\"Scatter plot to show the number of users born in each year\")\n",
        "plt.xticks(rotation=45)\n",
        "plt.grid(True)\n",
        "plt.legend()\n",
        "plt.tight_layout()\n",
        "plt.show()"
      ],
      "metadata": {
        "colab": {
          "base_uri": "https://localhost:8080/",
          "height": 607
        },
        "id": "jyWwo7j62IS8",
        "outputId": "83f87576-5169-40fa-9cf3-0056d10ae5e2"
      },
      "execution_count": null,
      "outputs": [
        {
          "output_type": "display_data",
          "data": {
            "text/plain": [
              "<Figure size 1000x600 with 1 Axes>"
            ],
            "image/png": "[encoded data removed]"
          },
          "metadata": {}
        }
      ]
    },
    {
      "cell_type": "markdown",
      "source": [
        "## EDA on Chat Data"
      ],
      "metadata": {
        "id": "HXYB6CKOXCiM"
      }
    },
    {
      "cell_type": "markdown",
      "source": [
        "### EDA on create_team_chat_df"
      ],
      "metadata": {
        "id": "NKR2hOaZXJmH"
      }
    },
    {
      "cell_type": "code",
      "source": [
        "#Count number of rows\n",
        "create_team_chat_df.count()"
      ],
      "metadata": {
        "colab": {
          "base_uri": "https://localhost:8080/"
        },
        "outputId": "81e59c8a-faac-40f1-e49b-39417cf8762b",
        "id": "IDCaz1TmXJmW"
      },
      "execution_count": null,
      "outputs": [
        {
          "output_type": "execute_result",
          "data": {
            "text/plain": [
              "126"
            ]
          },
          "metadata": {},
          "execution_count": 106
        }
      ]
    },
    {
      "cell_type": "code",
      "source": [
        "#Check schema of dataframe\n",
        "create_team_chat_df.printSchema()"
      ],
      "metadata": {
        "colab": {
          "base_uri": "https://localhost:8080/"
        },
        "outputId": "db4d1384-87e2-449d-9400-d748822a765a",
        "id": "hDQVAAK-XJmX"
      },
      "execution_count": null,
      "outputs": [
        {
          "output_type": "stream",
          "name": "stdout",
          "text": [
            "root\n",
            " |-- 1588: integer (nullable = true)\n",
            " |-- 177: integer (nullable = true)\n",
            " |-- 6776: integer (nullable = true)\n",
            " |-- 1464233999.0: double (nullable = true)\n",
            "\n"
          ]
        }
      ]
    },
    {
      "cell_type": "code",
      "source": [
        "#Show top 5 rows of create_team_chat_df dataframe\n",
        "create_team_chat_df.show(5)"
      ],
      "metadata": {
        "colab": {
          "base_uri": "https://localhost:8080/"
        },
        "outputId": "4505a77c-2972-4acf-a01c-6eb4e169a529",
        "id": "rC9ZKR4QXJmW"
      },
      "execution_count": null,
      "outputs": [
        {
          "output_type": "stream",
          "name": "stdout",
          "text": [
            "+----+---+----+-------------+\n",
            "|1588|177|6776| 1464233999.0|\n",
            "+----+---+----+-------------+\n",
            "| 350|188|6777|   1.464234E9|\n",
            "| 740| 81|6778|1.464234001E9|\n",
            "|1068| 66|6779|1.464234002E9|\n",
            "|1554| 52|6780|1.464234003E9|\n",
            "| 668| 89|6781|1.464234004E9|\n",
            "+----+---+----+-------------+\n",
            "only showing top 5 rows\n",
            "\n"
          ]
        }
      ]
    },
    {
      "cell_type": "markdown",
      "source": [
        "### EDA on item_team_chat_df"
      ],
      "metadata": {
        "id": "nfuhDt72YUwL"
      }
    },
    {
      "cell_type": "code",
      "source": [
        "#Count number of rows\n",
        "item_team_chat_df.count()"
      ],
      "metadata": {
        "colab": {
          "base_uri": "https://localhost:8080/"
        },
        "outputId": "1618906c-8bf9-4442-e0c1-76439ac3fbc9",
        "id": "Wk9M99DGYUwb"
      },
      "execution_count": null,
      "outputs": [
        {
          "output_type": "execute_result",
          "data": {
            "text/plain": [
              "44412"
            ]
          },
          "metadata": {},
          "execution_count": 109
        }
      ]
    },
    {
      "cell_type": "code",
      "source": [
        "#Check schema of dataframe\n",
        "item_team_chat_df.printSchema()"
      ],
      "metadata": {
        "colab": {
          "base_uri": "https://localhost:8080/"
        },
        "outputId": "0b4fb7d6-c537-40da-f3d5-3e4b17e31ca5",
        "id": "OsVMzZ1sYUwb"
      },
      "execution_count": null,
      "outputs": [
        {
          "output_type": "stream",
          "name": "stdout",
          "text": [
            "root\n",
            " |-- 1754: integer (nullable = true)\n",
            " |-- 6810: integer (nullable = true)\n",
            " |-- 6812: integer (nullable = true)\n",
            " |-- 1464235803.0: double (nullable = true)\n",
            "\n"
          ]
        }
      ]
    },
    {
      "cell_type": "code",
      "source": [
        "#Show top 5 rows of item_team_chat_df dataframe\n",
        "item_team_chat_df.show(5)"
      ],
      "metadata": {
        "colab": {
          "base_uri": "https://localhost:8080/"
        },
        "outputId": "eff1c878-38e2-44c5-d62b-f6372993e6a2",
        "id": "0j0RneydYUwb"
      },
      "execution_count": null,
      "outputs": [
        {
          "output_type": "stream",
          "name": "stdout",
          "text": [
            "+----+----+----+-------------+\n",
            "|1754|6810|6812| 1464235803.0|\n",
            "+----+----+----+-------------+\n",
            "|1847|6779|6824|1.464235815E9|\n",
            "|1349|6792|6840|1.464237603E9|\n",
            "|  63|6784|6861|1.464239411E9|\n",
            "|1125|6792|6864|1.464239414E9|\n",
            "| 192|6796|6865|1.464239415E9|\n",
            "+----+----+----+-------------+\n",
            "only showing top 5 rows\n",
            "\n"
          ]
        }
      ]
    },
    {
      "cell_type": "markdown",
      "source": [
        "### EDA on join_team_chat_df"
      ],
      "metadata": {
        "id": "Gr4Ts-4xYeWE"
      }
    },
    {
      "cell_type": "code",
      "source": [
        "#Count number of rows\n",
        "join_team_chat_df.count()"
      ],
      "metadata": {
        "colab": {
          "base_uri": "https://localhost:8080/"
        },
        "outputId": "a17f7e6b-eaf8-4e3a-e5e2-5c1b6ecfd945",
        "id": "5HjopfvqYeWg"
      },
      "execution_count": null,
      "outputs": [
        {
          "output_type": "execute_result",
          "data": {
            "text/plain": [
              "4000"
            ]
          },
          "metadata": {},
          "execution_count": 91
        }
      ]
    },
    {
      "cell_type": "code",
      "source": [
        "#Check schema of dataframe\n",
        "join_team_chat_df.printSchema()"
      ],
      "metadata": {
        "colab": {
          "base_uri": "https://localhost:8080/"
        },
        "outputId": "5e5dc4ce-441c-4709-a6f8-a494a7efb7b5",
        "id": "XZbBEZpJYeWh"
      },
      "execution_count": null,
      "outputs": [
        {
          "output_type": "stream",
          "name": "stdout",
          "text": [
            "root\n",
            " |-- 1588: integer (nullable = true)\n",
            " |-- 6776: integer (nullable = true)\n",
            " |-- 1464233999.0: double (nullable = true)\n",
            "\n"
          ]
        }
      ]
    },
    {
      "cell_type": "code",
      "source": [
        "#Show top 5 rows of join_team_chat_df dataframe\n",
        "join_team_chat_df.show(5)"
      ],
      "metadata": {
        "colab": {
          "base_uri": "https://localhost:8080/"
        },
        "outputId": "25cf479a-a9b6-4c50-b5ab-eb225fc0f3e4",
        "id": "1bLvteM-YeWg"
      },
      "execution_count": null,
      "outputs": [
        {
          "output_type": "stream",
          "name": "stdout",
          "text": [
            "+----+----+-------------+\n",
            "|1588|6776| 1464233999.0|\n",
            "+----+----+-------------+\n",
            "| 350|6777|   1.464234E9|\n",
            "| 740|6778|1.464234001E9|\n",
            "|1068|6779|1.464234002E9|\n",
            "|1554|6780|1.464234003E9|\n",
            "| 668|6781|1.464234004E9|\n",
            "+----+----+-------------+\n",
            "only showing top 5 rows\n",
            "\n"
          ]
        }
      ]
    },
    {
      "cell_type": "markdown",
      "source": [
        "### EDA on leave_team_chat_df"
      ],
      "metadata": {
        "id": "C1t3cKqoYpem"
      }
    },
    {
      "cell_type": "code",
      "source": [
        "#Count number of rows\n",
        "leave_team_chat_df.count()"
      ],
      "metadata": {
        "colab": {
          "base_uri": "https://localhost:8080/"
        },
        "outputId": "a00e8f73-bf71-450a-c5fc-9675da34eb1b",
        "id": "gGunrhZ9Ype2"
      },
      "execution_count": null,
      "outputs": [
        {
          "output_type": "execute_result",
          "data": {
            "text/plain": [
              "3263"
            ]
          },
          "metadata": {},
          "execution_count": 94
        }
      ]
    },
    {
      "cell_type": "code",
      "source": [
        "#Check schema of dataframe\n",
        "leave_team_chat_df.printSchema()"
      ],
      "metadata": {
        "colab": {
          "base_uri": "https://localhost:8080/"
        },
        "outputId": "59526c81-5a93-4b8b-aca1-b5244a41d086",
        "id": "z4zfvlQqYpe3"
      },
      "execution_count": null,
      "outputs": [
        {
          "output_type": "stream",
          "name": "stdout",
          "text": [
            "root\n",
            " |-- 1244: integer (nullable = true)\n",
            " |-- 6821: integer (nullable = true)\n",
            " |-- 1464241204.0: double (nullable = true)\n",
            "\n"
          ]
        }
      ]
    },
    {
      "cell_type": "code",
      "source": [
        "#Show top 5 rows of leave_team_chat_df dataframe\n",
        "leave_team_chat_df.show(5)"
      ],
      "metadata": {
        "colab": {
          "base_uri": "https://localhost:8080/"
        },
        "outputId": "d70382f1-b29c-496a-ab3e-344e396f2a4d",
        "id": "lY46Pa_-Ype2"
      },
      "execution_count": null,
      "outputs": [
        {
          "output_type": "stream",
          "name": "stdout",
          "text": [
            "+----+----+-------------+\n",
            "|1244|6821| 1464241204.0|\n",
            "+----+----+-------------+\n",
            "|1074|6838|1.464243024E9|\n",
            "| 350|6777|1.464246654E9|\n",
            "|1349|6792|1.464248401E9|\n",
            "|1219|6854|1.464248403E9|\n",
            "|1398|6780|1.464248416E9|\n",
            "+----+----+-------------+\n",
            "only showing top 5 rows\n",
            "\n"
          ]
        }
      ]
    },
    {
      "cell_type": "markdown",
      "source": [
        "### EDA on mention_team_chat_df"
      ],
      "metadata": {
        "id": "c_X0G4RcYzRe"
      }
    },
    {
      "cell_type": "code",
      "source": [
        "#Count number of rows\n",
        "mention_team_chat_df .count()"
      ],
      "metadata": {
        "colab": {
          "base_uri": "https://localhost:8080/"
        },
        "outputId": "41c7c50f-5f23-4bf2-8315-f6a31b735d0d",
        "id": "A23sOjs-YzRg"
      },
      "execution_count": null,
      "outputs": [
        {
          "output_type": "execute_result",
          "data": {
            "text/plain": [
              "11083"
            ]
          },
          "metadata": {},
          "execution_count": 97
        }
      ]
    },
    {
      "cell_type": "code",
      "source": [
        "#Check schema of dataframe\n",
        "mention_team_chat_df .printSchema()"
      ],
      "metadata": {
        "colab": {
          "base_uri": "https://localhost:8080/"
        },
        "outputId": "b7ec7add-da81-431c-9272-f0c1ce8aba3d",
        "id": "K4W2Fup8YzRg"
      },
      "execution_count": null,
      "outputs": [
        {
          "output_type": "stream",
          "name": "stdout",
          "text": [
            "root\n",
            " |-- 6824: integer (nullable = true)\n",
            " |-- 1847: integer (nullable = true)\n",
            " |-- 1464235815.0: double (nullable = true)\n",
            "\n"
          ]
        }
      ]
    },
    {
      "cell_type": "code",
      "source": [
        "#Show top 5 rows of mention_team_chat_df  dataframe\n",
        "mention_team_chat_df.show(5)"
      ],
      "metadata": {
        "colab": {
          "base_uri": "https://localhost:8080/"
        },
        "outputId": "6bb262e7-e238-4838-bca6-75a9110e1da0",
        "id": "3ZHs4m5HYzRf"
      },
      "execution_count": null,
      "outputs": [
        {
          "output_type": "stream",
          "name": "stdout",
          "text": [
            "+----+----+-------------+\n",
            "|6824|1847| 1464235815.0|\n",
            "+----+----+-------------+\n",
            "|6865| 789|1.464239415E9|\n",
            "|6906| 518|1.464243003E9|\n",
            "|6934| 240|1.464243031E9|\n",
            "|6968|1482|1.464244803E9|\n",
            "|6976|1792|1.464244811E9|\n",
            "+----+----+-------------+\n",
            "only showing top 5 rows\n",
            "\n"
          ]
        }
      ]
    },
    {
      "cell_type": "markdown",
      "source": [
        "### EDA on respond_team_chat_df"
      ],
      "metadata": {
        "id": "2brhKgaDY_L3"
      }
    },
    {
      "cell_type": "code",
      "source": [
        "#Count number of rows\n",
        "respond_team_chat_df .count()"
      ],
      "metadata": {
        "colab": {
          "base_uri": "https://localhost:8080/"
        },
        "outputId": "131bf819-2955-4cdf-cd8b-46f94ce4bed1",
        "id": "iz22Bw-TY_MH"
      },
      "execution_count": null,
      "outputs": [
        {
          "output_type": "execute_result",
          "data": {
            "text/plain": [
              "11072"
            ]
          },
          "metadata": {},
          "execution_count": 100
        }
      ]
    },
    {
      "cell_type": "code",
      "source": [
        "#Check schema of dataframe\n",
        "respond_team_chat_df .printSchema()"
      ],
      "metadata": {
        "colab": {
          "base_uri": "https://localhost:8080/"
        },
        "outputId": "88e92337-651a-4ef8-d5fc-ab70a306dc3c",
        "id": "02L9waZ4Y_MI"
      },
      "execution_count": null,
      "outputs": [
        {
          "output_type": "stream",
          "name": "stdout",
          "text": [
            "root\n",
            " |-- 6934: integer (nullable = true)\n",
            " |-- 6928: integer (nullable = true)\n",
            " |-- 1464243031.0: double (nullable = true)\n",
            "\n"
          ]
        }
      ]
    },
    {
      "cell_type": "code",
      "source": [
        "#Show top 5 rows of respond_team_chat_df  dataframe\n",
        "respond_team_chat_df.show(5)"
      ],
      "metadata": {
        "colab": {
          "base_uri": "https://localhost:8080/"
        },
        "outputId": "29678b91-55b2-4ddf-b64f-653333dcfcc1",
        "id": "h1JdvK97Y_MH"
      },
      "execution_count": null,
      "outputs": [
        {
          "output_type": "stream",
          "name": "stdout",
          "text": [
            "+----+----+-------------+\n",
            "|6934|6928| 1464243031.0|\n",
            "+----+----+-------------+\n",
            "|6950|6865|1.464243047E9|\n",
            "|6955|6935|1.464243052E9|\n",
            "|6967|6935|1.464244802E9|\n",
            "|6980|6977|1.464244815E9|\n",
            "|6993|6906|1.464244828E9|\n",
            "+----+----+-------------+\n",
            "only showing top 5 rows\n",
            "\n"
          ]
        }
      ]
    },
    {
      "cell_type": "markdown",
      "source": [
        "# Data Pre-processing"
      ],
      "metadata": {
        "id": "0-1MOJDkgjHM"
      }
    },
    {
      "cell_type": "markdown",
      "source": [
        "## Data Integration"
      ],
      "metadata": {
        "id": "HkAsDnaeNhkW"
      }
    },
    {
      "cell_type": "markdown",
      "source": [
        "Integrating the two dataframes that will be used."
      ],
      "metadata": {
        "id": "m_DW4Mt-O20v"
      }
    },
    {
      "cell_type": "code",
      "source": [
        "#Merging the two files\n",
        "combined_df = users_df.join(user_session_df, \"userId\")"
      ],
      "metadata": {
        "id": "q2VkTn8DNjbp"
      },
      "execution_count": null,
      "outputs": []
    },
    {
      "cell_type": "code",
      "source": [
        "#Viewing the combined file\n",
        "combined_df.show()"
      ],
      "metadata": {
        "colab": {
          "base_uri": "https://localhost:8080/"
        },
        "id": "NEwWzhk3Orft",
        "outputId": "6c2fa22f-8e80-48d0-eb8a-0e74e5d8c140"
      },
      "execution_count": null,
      "outputs": [
        {
          "output_type": "stream",
          "name": "stdout",
          "text": [
            "+------+-------------------+-----------+----------+----------+-------+-------------------+-------------+------+------------+-----------+---------+------------+\n",
            "|userId|          timestamp|       nick|   twitter|       dob|country|          timestamp|userSessionId|teamId|assignmentId|sessionType|teamLevel|platformType|\n",
            "+------+-------------------+-----------+----------+----------+-------+-------------------+-------------+------+------------+-----------+---------+------------+\n",
            "|   170|2016-02-13 15:04:42| HmV6dJIAjP|   @ejgBLF|1973-07-03|     ST|2016-05-26 14:47:30|         5675|    90|        5423|      start|        1|      iphone|\n",
            "|   170|2016-02-13 15:04:42| HmV6dJIAjP|   @ejgBLF|1973-07-03|     ST|2016-05-27 00:06:54|         5675|    90|        5423|        end|        1|      iphone|\n",
            "|   835|2013-04-07 15:39:25|  qtM5nk5Wt| @Fj5s1Mb9|1991-03-02|     LT|2016-05-26 14:43:09|         5795|    39|        5300|      start|        1|     android|\n",
            "|   835|2013-04-07 15:39:25|  qtM5nk5Wt| @Fj5s1Mb9|1991-03-02|     LT|2016-05-27 08:06:54|         5795|    39|        5300|        end|        1|     android|\n",
            "|   624|2013-08-14 15:52:40|  A8QidJ9aI|  @M73DVdU|1976-03-19|     GU|2016-05-26 14:47:20|         5833|     2|        5529|      start|        1|      iphone|\n",
            "|   624|2013-08-14 15:52:40|  A8QidJ9aI|  @M73DVdU|1976-03-19|     GU|2016-05-27 23:06:54|         5833|     2|        5529|        end|        1|      iphone|\n",
            "|   514|2015-11-13 03:18:31|    VYbTwpN|@aqU2tkDcb|1969-07-26|     BD|2016-05-26 14:37:33|         5877|     2|        5528|      start|        1|     windows|\n",
            "|   514|2015-11-13 03:18:31|    VYbTwpN|@aqU2tkDcb|1969-07-26|     BD|2016-05-27 23:06:54|         5877|     2|        5528|        end|        1|     windows|\n",
            "|  2103|2014-10-01 05:42:06|    vxeet6y|   @wNl2Er|1992-08-31|     IO|2016-05-26 14:36:55|         5902|     2|        5527|      start|        1|      iphone|\n",
            "|  2103|2014-10-01 05:42:06|    vxeet6y|   @wNl2Er|1992-08-31|     IO|2016-05-27 23:06:54|         5902|     2|        5527|        end|        1|      iphone|\n",
            "|   518|2013-06-08 15:58:33|    dui0qxE|  @7PTvD7P|1993-08-11|     ZA|2016-05-26 14:50:24|         5921|     2|        5520|      start|        1|       linux|\n",
            "|   518|2013-06-08 15:58:33|    dui0qxE|  @7PTvD7P|1993-08-11|     ZA|2016-05-27 23:06:54|         5921|     2|        5520|        end|        1|       linux|\n",
            "|   569|2014-09-21 11:09:50|aX9K8aSblfN|   @FqPQHo|1979-10-12|     SK|2016-05-26 14:44:55|         5924|     2|        5524|      start|        1|      iphone|\n",
            "|   569|2014-09-21 11:09:50|aX9K8aSblfN|   @FqPQHo|1979-10-12|     SK|2016-05-27 23:06:54|         5924|     2|        5524|        end|        1|      iphone|\n",
            "|  2353|2015-07-26 14:44:26| cQ54T5vXd8| @9OtnsZ11|1997-11-27|     MV|2016-05-27 17:06:54|         7270|     2|        7264|      start|        1|      iphone|\n",
            "|  2353|2015-07-26 14:44:26| cQ54T5vXd8| @9OtnsZ11|1997-11-27|     MV|2016-05-27 23:06:54|         7270|     2|        7264|        end|        1|      iphone|\n",
            "|  1353|2015-12-09 18:14:42|   TicvrpmQ| @bwSEPT4A|1948-05-02|     PM|2016-05-26 14:38:34|         5700|     8|        5562|      start|        1|     android|\n",
            "|  1353|2015-12-09 18:14:42|   TicvrpmQ| @bwSEPT4A|1948-05-02|     PM|2016-05-27 23:06:54|         5700|     8|        5562|        end|        1|     android|\n",
            "|  1175|2013-08-08 13:16:50| vp1oe1EKX3|  @OVe9lLq|1950-03-31|     FK|2016-05-26 15:05:00|         5708|     8|        5553|      start|        1|      iphone|\n",
            "|  1175|2013-08-08 13:16:50| vp1oe1EKX3|  @OVe9lLq|1950-03-31|     FK|2016-05-27 23:06:54|         5708|     8|        5553|        end|        1|      iphone|\n",
            "+------+-------------------+-----------+----------+----------+-------+-------------------+-------------+------+------------+-----------+---------+------------+\n",
            "only showing top 20 rows\n",
            "\n"
          ]
        }
      ]
    },
    {
      "cell_type": "markdown",
      "source": [
        "## Data Cleaning"
      ],
      "metadata": {
        "id": "Eq-cSv1cfmC1"
      }
    },
    {
      "cell_type": "markdown",
      "source": [
        "Cleaning the combined_df of duplicate userSessionIds and dropping unrequired columns."
      ],
      "metadata": {
        "id": "7PWKXT-vfp93"
      }
    },
    {
      "cell_type": "code",
      "source": [
        "#Dropping duplicate userSessionIds\n",
        "combined_df = combined_df.dropDuplicates(['userSessionId']).orderBy('userSessionId')\n",
        "combined_df.show()"
      ],
      "metadata": {
        "colab": {
          "base_uri": "https://localhost:8080/"
        },
        "id": "t08G2xfAqJTE",
        "outputId": "e9d6d1e2-191f-41b6-dc98-3d7bbf9fc820"
      },
      "execution_count": null,
      "outputs": [
        {
          "output_type": "stream",
          "name": "stdout",
          "text": [
            "+------+-------------------+-----------+----------+----------+-------+-------------------+-------------+------+------------+-----------+---------+------------+\n",
            "|userId|          timestamp|       nick|   twitter|       dob|country|          timestamp|userSessionId|teamId|assignmentId|sessionType|teamLevel|platformType|\n",
            "+------+-------------------+-----------+----------+----------+-------+-------------------+-------------+------+------------+-----------+---------+------------+\n",
            "|   812|2012-08-07 22:46:47|  JIEpxpte7|    @ueZSj|1958-04-28|     DO|2016-05-26 15:01:14|         5648|    36|        5242|      start|        1|     android|\n",
            "|  1658|2014-05-25 20:36:33| VBAoAoPXtp|    @74pik|1977-03-29|     VE|2016-05-26 14:39:49|         5649|    18|        5226|      start|        1|      iphone|\n",
            "|  1589|2015-02-11 04:59:11|  4TzxDS3uw|   @uwCWvl|1959-10-30|     LT|2016-05-26 15:05:08|         5650|    22|        5589|      start|        1|      iphone|\n",
            "|  1863|2012-12-27 16:31:30| m8JxfgGVHU|@CbL38wSsz|1988-05-01|     PK|2016-05-26 14:58:07|         5651|    53|        5260|      start|        1|     android|\n",
            "|   937|2014-04-24 22:13:00|5ZzGu2GJwve|    @UCnt4|1967-03-18|     ZM|2016-05-26 14:54:15|         5652|    11|        5316|      start|        1|     android|\n",
            "|   342|2015-09-18 15:23:53|     vY6z1c|@fDRX0bJlL|1956-12-21|     GT|2016-05-26 14:59:07|         5653|    22|        5591|      start|        1|     android|\n",
            "|   849|2012-09-28 06:00:54|oxH4ZX9cugL|  @3Sw1Mkf|1971-11-26|     AT|2016-05-26 15:05:10|         5654|    18|        5222|      start|        1|      iphone|\n",
            "|  1277|2013-12-27 04:09:41|    3L3R9az|   @DZYoAN|1969-10-08|     MR|2016-05-26 14:37:51|         5655|     9|        5403|      start|        1|     windows|\n",
            "|  2203|2015-01-27 19:56:07|    vvFrlj2| @rVQfQ3jL|1994-01-07|     AO|2016-05-26 14:45:28|         5656|    86|        5130|      start|        1|     android|\n",
            "|   585|2013-03-07 05:52:07| mrP1WThMB7|  @U2ljTdX|1983-07-29|     BB|2016-05-26 14:41:06|         5657|    63|        5027|      start|        1|      iphone|\n",
            "|  1370|2014-02-23 00:38:36|  eKCn5Q6p8|@ZGRsHk7jv|1962-06-08|     MN|2016-05-26 14:54:51|         5658|    72|        5416|      start|        1|      iphone|\n",
            "|  1623|2013-11-30 20:39:19|     L6fCuA|    @EIqID|1947-11-02|     SV|2016-05-26 14:47:38|         5659|    13|        5373|      start|        1|      iphone|\n",
            "|   881|2016-02-13 02:35:27|n3eHnRGQmlG| @KV39hNYX|1982-05-01|     RO|2016-05-26 14:44:45|         5660|    53|        5257|      start|        1|      iphone|\n",
            "|    83|2015-06-29 09:10:33| yswe05OJem|    @2TIpG|1987-09-04|     GF|2016-05-26 15:00:39|         5661|    63|        5025|      start|        1|     android|\n",
            "|   453|2013-06-03 06:26:49|     exvXUu|  @rjFjfWA|1969-02-16|     SO|2016-05-26 14:45:39|         5662|    20|        5112|      start|        1|     android|\n",
            "|  1966|2016-03-30 06:24:48| 2qxz8thq0T|    @EOWqk|1970-04-26|     BV|2016-05-26 14:50:11|         5663|    94|        5331|      start|        1|      iphone|\n",
            "|  1073|2012-09-21 05:58:08| dQDTpFAFq0|@Fx2hDpKJJ|1961-07-16|     IL|2016-05-26 14:55:24|         5664|    39|        5306|      start|        1|     android|\n",
            "|   121|2015-07-19 00:29:29|   gzrwXVUd|  @4MNadvF|1964-10-04|     UY|2016-05-26 15:05:26|         5665|    18|        5061|      start|        1|     android|\n",
            "|   462|2013-11-22 03:09:56| v8c5HuUzzq|  @kPwlfYG|1959-07-21|     PH|2016-05-26 14:49:14|         5666|    63|        5028|      start|        1|     android|\n",
            "|   708|2013-01-17 01:39:54|  W4uiGeiAt|    @mWVWo|1972-09-25|     RS|2016-05-26 14:39:23|         5667|    64|        5117|      start|        1|      iphone|\n",
            "+------+-------------------+-----------+----------+----------+-------+-------------------+-------------+------+------------+-----------+---------+------------+\n",
            "only showing top 20 rows\n",
            "\n"
          ]
        }
      ]
    },
    {
      "cell_type": "code",
      "source": [
        "#Counting the number of records in the dataframe\n",
        "combined_df.select('userSessionId').count()"
      ],
      "metadata": {
        "colab": {
          "base_uri": "https://localhost:8080/"
        },
        "id": "IvnOaGEzt6bs",
        "outputId": "6255c1ca-7967-47f2-eff9-84b29223f4ed"
      },
      "execution_count": null,
      "outputs": [
        {
          "output_type": "execute_result",
          "data": {
            "text/plain": [
              "4625"
            ]
          },
          "metadata": {},
          "execution_count": 53
        }
      ]
    },
    {
      "cell_type": "code",
      "source": [
        "#Dropping unrequired columns to remove redundant data\n",
        "combined_df = combined_df.drop('userId','timestamp','nick','twitter', 'timestamp','userSessionId','teamId','assignmentId','sessionType')"
      ],
      "metadata": {
        "id": "Tux52u2mxol9"
      },
      "execution_count": null,
      "outputs": []
    },
    {
      "cell_type": "code",
      "source": [
        "#Data frame after all data cleaning has been applied\n",
        "combined_df.show()"
      ],
      "metadata": {
        "colab": {
          "base_uri": "https://localhost:8080/"
        },
        "id": "gGVmhGT-vT13",
        "outputId": "b634937a-41e9-4fd4-ca07-36c6f4d8cec8"
      },
      "execution_count": null,
      "outputs": [
        {
          "output_type": "stream",
          "name": "stdout",
          "text": [
            "+----------+-------+---------+------------+\n",
            "|       dob|country|teamLevel|platformType|\n",
            "+----------+-------+---------+------------+\n",
            "|1958-04-28|     DO|        1|     android|\n",
            "|1977-03-29|     VE|        1|      iphone|\n",
            "|1959-10-30|     LT|        1|      iphone|\n",
            "|1988-05-01|     PK|        1|     android|\n",
            "|1967-03-18|     ZM|        1|     android|\n",
            "|1956-12-21|     GT|        1|     android|\n",
            "|1971-11-26|     AT|        1|      iphone|\n",
            "|1969-10-08|     MR|        1|     windows|\n",
            "|1994-01-07|     AO|        1|     android|\n",
            "|1983-07-29|     BB|        1|      iphone|\n",
            "|1962-06-08|     MN|        1|      iphone|\n",
            "|1947-11-02|     SV|        1|      iphone|\n",
            "|1982-05-01|     RO|        1|      iphone|\n",
            "|1987-09-04|     GF|        1|     android|\n",
            "|1969-02-16|     SO|        1|     android|\n",
            "|1970-04-26|     BV|        1|      iphone|\n",
            "|1961-07-16|     IL|        1|     android|\n",
            "|1964-10-04|     UY|        1|     android|\n",
            "|1959-07-21|     PH|        1|     android|\n",
            "|1972-09-25|     RS|        1|      iphone|\n",
            "+----------+-------+---------+------------+\n",
            "only showing top 20 rows\n",
            "\n"
          ]
        }
      ]
    },
    {
      "cell_type": "markdown",
      "source": [
        "## Data Transformations\n",
        "Grouping Platform Type Categories"
      ],
      "metadata": {
        "id": "uIsPyNYsmR2u"
      }
    },
    {
      "cell_type": "code",
      "source": [
        "#List of platform values to replace\n",
        "platforms_to_replace = ['windows', 'linux', 'mac']"
      ],
      "metadata": {
        "id": "pHJUihU_ohhu"
      },
      "execution_count": null,
      "outputs": []
    },
    {
      "cell_type": "code",
      "source": [
        "#Updating values in the 'platformType' column\n",
        "platform_groups_df = combined_df.withColumn('platformType', when(col('platformType').isin(platforms_to_replace), 'desktop').otherwise(col('platformType')))"
      ],
      "metadata": {
        "id": "zuemRrOmolwt"
      },
      "execution_count": null,
      "outputs": []
    },
    {
      "cell_type": "code",
      "source": [
        "#Selecting to show the unique values in the platformType column\n",
        "platform_groups_df.select('platformType').distinct().show()"
      ],
      "metadata": {
        "colab": {
          "base_uri": "https://localhost:8080/"
        },
        "id": "PBM63p03orQL",
        "outputId": "9ef90ff0-5611-4b4a-dd7e-ddf8cc3b91e6"
      },
      "execution_count": null,
      "outputs": [
        {
          "output_type": "stream",
          "name": "stdout",
          "text": [
            "+------------+\n",
            "|platformType|\n",
            "+------------+\n",
            "|      iphone|\n",
            "|     android|\n",
            "|     desktop|\n",
            "+------------+\n",
            "\n"
          ]
        }
      ]
    },
    {
      "cell_type": "code",
      "source": [
        "#Assigning the transformed dataframe back to combined_df and showing it\n",
        "combined_df = platform_groups_df\n",
        "combined_df.show()"
      ],
      "metadata": {
        "id": "rLwQD-W2peec",
        "colab": {
          "base_uri": "https://localhost:8080/"
        },
        "outputId": "d7a15196-76d7-46c2-e3d1-ce513692e3d2"
      },
      "execution_count": null,
      "outputs": [
        {
          "output_type": "stream",
          "name": "stdout",
          "text": [
            "+----------+-------+---------+------------+\n",
            "|       dob|country|teamLevel|platformType|\n",
            "+----------+-------+---------+------------+\n",
            "|1958-04-28|     DO|        1|     android|\n",
            "|1977-03-29|     VE|        1|      iphone|\n",
            "|1959-10-30|     LT|        1|      iphone|\n",
            "|1988-05-01|     PK|        1|     android|\n",
            "|1967-03-18|     ZM|        1|     android|\n",
            "|1956-12-21|     GT|        1|     android|\n",
            "|1971-11-26|     AT|        1|      iphone|\n",
            "|1969-10-08|     MR|        1|     desktop|\n",
            "|1994-01-07|     AO|        1|     android|\n",
            "|1983-07-29|     BB|        1|      iphone|\n",
            "|1962-06-08|     MN|        1|      iphone|\n",
            "|1947-11-02|     SV|        1|      iphone|\n",
            "|1982-05-01|     RO|        1|      iphone|\n",
            "|1987-09-04|     GF|        1|     android|\n",
            "|1969-02-16|     SO|        1|     android|\n",
            "|1970-04-26|     BV|        1|      iphone|\n",
            "|1961-07-16|     IL|        1|     android|\n",
            "|1964-10-04|     UY|        1|     android|\n",
            "|1959-07-21|     PH|        1|     android|\n",
            "|1972-09-25|     RS|        1|      iphone|\n",
            "+----------+-------+---------+------------+\n",
            "only showing top 20 rows\n",
            "\n"
          ]
        }
      ]
    },
    {
      "cell_type": "markdown",
      "source": [
        "## Feature Engineering"
      ],
      "metadata": {
        "id": "6q1a7wEWjJ1q"
      }
    },
    {
      "cell_type": "markdown",
      "source": [
        "### Calculating Age\n",
        "Extracting year From dob Column"
      ],
      "metadata": {
        "id": "gPnB8HI774kD"
      }
    },
    {
      "cell_type": "markdown",
      "source": [
        "Feature engineering was performed to extract the date from the dob column. The year was then used to calculate users' ages."
      ],
      "metadata": {
        "id": "2pnZfBAdjL5P"
      }
    },
    {
      "cell_type": "code",
      "source": [
        "#Splitting dob string to extract year only\n",
        "combined_df = combined_df.withColumn('dob', split(combined_df.dob, '-').getItem(0))\n",
        "\n",
        "#Converting dob column, of string data type to integer data type\n",
        "combined_df = combined_df.withColumn('dob', combined_df['dob'].cast(IntegerType()))\n",
        "\n",
        "#Calculating users' ages based on extracted year, at the time the dataset was collected\n",
        "combined_df = combined_df.withColumn(\"age\", 2016 - col(\"dob\"))\n",
        "\n",
        "#Dropping dob column\n",
        "combined_df = combined_df.drop(\"dob\")"
      ],
      "metadata": {
        "id": "GcqIEgo0kF2L"
      },
      "execution_count": null,
      "outputs": []
    },
    {
      "cell_type": "code",
      "source": [
        "#Printing the schema of the dataframe show that the age column is an integer\n",
        "combined_df.printSchema()"
      ],
      "metadata": {
        "colab": {
          "base_uri": "https://localhost:8080/"
        },
        "id": "-EHlNq-SVmSM",
        "outputId": "71b71b3c-e90e-48b2-efcd-795428f911e1"
      },
      "execution_count": null,
      "outputs": [
        {
          "output_type": "stream",
          "name": "stdout",
          "text": [
            "root\n",
            " |-- country: string (nullable = true)\n",
            " |-- teamLevel: integer (nullable = true)\n",
            " |-- platformType: string (nullable = true)\n",
            " |-- age: integer (nullable = true)\n",
            "\n"
          ]
        }
      ]
    },
    {
      "cell_type": "code",
      "source": [
        "#Viewing the dataframe with the new age column added\n",
        "combined_df.show()"
      ],
      "metadata": {
        "colab": {
          "base_uri": "https://localhost:8080/"
        },
        "id": "NYd88oioarYF",
        "outputId": "e07317b1-b670-409b-ffa2-b79e660ac40e"
      },
      "execution_count": null,
      "outputs": [
        {
          "output_type": "stream",
          "name": "stdout",
          "text": [
            "+-------+---------+------------+---+\n",
            "|country|teamLevel|platformType|age|\n",
            "+-------+---------+------------+---+\n",
            "|     DO|        1|     android| 58|\n",
            "|     VE|        1|      iphone| 39|\n",
            "|     LT|        1|      iphone| 57|\n",
            "|     PK|        1|     android| 28|\n",
            "|     ZM|        1|     android| 49|\n",
            "|     GT|        1|     android| 60|\n",
            "|     AT|        1|      iphone| 45|\n",
            "|     MR|        1|     desktop| 47|\n",
            "|     AO|        1|     android| 22|\n",
            "|     BB|        1|      iphone| 33|\n",
            "|     MN|        1|      iphone| 54|\n",
            "|     SV|        1|      iphone| 69|\n",
            "|     RO|        1|      iphone| 34|\n",
            "|     GF|        1|     android| 29|\n",
            "|     SO|        1|     android| 47|\n",
            "|     BV|        1|      iphone| 46|\n",
            "|     IL|        1|     android| 55|\n",
            "|     UY|        1|     android| 52|\n",
            "|     PH|        1|     android| 57|\n",
            "|     RS|        1|      iphone| 44|\n",
            "+-------+---------+------------+---+\n",
            "only showing top 20 rows\n",
            "\n"
          ]
        }
      ]
    },
    {
      "cell_type": "markdown",
      "source": [
        "### Converting Two-Letter Country Codes to Continent Codes"
      ],
      "metadata": {
        "id": "bdtbah7l78q7"
      }
    },
    {
      "cell_type": "markdown",
      "source": [
        "Feature engineering was performed to convert the two-letter country code to continent codes."
      ],
      "metadata": {
        "id": "Tmea1T3itmkq"
      }
    },
    {
      "cell_type": "code",
      "source": [
        "#Function to convert two-letter country code into continent codes.\n",
        "def code_to_continent(country_code):\n",
        "    try:\n",
        "        continent_code = country_alpha2_to_continent_code(country_code)\n",
        "        return continent_code\n",
        "    except KeyError:\n",
        "        return None\n",
        "\n",
        "country_to_continent = udf(code_to_continent, StringType())"
      ],
      "metadata": {
        "id": "UREWhwzvuUpJ"
      },
      "execution_count": null,
      "outputs": []
    },
    {
      "cell_type": "code",
      "source": [
        "#New dataframe created with new column for continent codes\n",
        "continent_df = combined_df.withColumn(\"continent\", country_to_continent(combined_df[\"country\"]))"
      ],
      "metadata": {
        "id": "ZNSVPrvGuXxJ"
      },
      "execution_count": null,
      "outputs": []
    },
    {
      "cell_type": "code",
      "source": [
        "#Counting number of unique values in continent column\n",
        "continent_df.select('continent').distinct().count()"
      ],
      "metadata": {
        "colab": {
          "base_uri": "https://localhost:8080/"
        },
        "id": "hBZC1zutuyWt",
        "outputId": "a6dd96c6-d617-4ac8-9cd9-6638ad1de72a"
      },
      "execution_count": null,
      "outputs": [
        {
          "output_type": "execute_result",
          "data": {
            "text/plain": [
              "8"
            ]
          },
          "metadata": {},
          "execution_count": 65
        }
      ]
    },
    {
      "cell_type": "code",
      "source": [
        "#Counting number of rows where continent is null\n",
        "continent_df.where(continent_df.continent.isNull()).count()"
      ],
      "metadata": {
        "colab": {
          "base_uri": "https://localhost:8080/"
        },
        "id": "AHFK5pl4y1Y7",
        "outputId": "113b8e34-957a-447a-8b55-f0a1cbcee0fa"
      },
      "execution_count": null,
      "outputs": [
        {
          "output_type": "execute_result",
          "data": {
            "text/plain": [
              "190"
            ]
          },
          "metadata": {},
          "execution_count": 66
        }
      ]
    },
    {
      "cell_type": "code",
      "source": [
        "#Converting null values to unknown\n",
        "cleaned_continent_df = continent_df.withColumn('continent', F.when(continent_df.continent.isNull(), 'Unknown').otherwise(continent_df.continent))"
      ],
      "metadata": {
        "id": "i-A_ZPR5zjYz"
      },
      "execution_count": null,
      "outputs": []
    },
    {
      "cell_type": "code",
      "source": [
        "#Again, counting number of rows where continent is null\n",
        "cleaned_continent_df.where(cleaned_continent_df.continent.isNull()).count()"
      ],
      "metadata": {
        "colab": {
          "base_uri": "https://localhost:8080/"
        },
        "id": "6ql9ZB5G0Tqt",
        "outputId": "f8c91d12-1e6b-40c3-ee41-ef2a124ca224"
      },
      "execution_count": null,
      "outputs": [
        {
          "output_type": "execute_result",
          "data": {
            "text/plain": [
              "0"
            ]
          },
          "metadata": {},
          "execution_count": 68
        }
      ]
    },
    {
      "cell_type": "code",
      "source": [
        "cleaned_continent_df.show()"
      ],
      "metadata": {
        "colab": {
          "base_uri": "https://localhost:8080/"
        },
        "id": "U2Bbr1Cg8KL-",
        "outputId": "72da94d8-1095-4c23-c414-97760dd2086a"
      },
      "execution_count": null,
      "outputs": [
        {
          "output_type": "stream",
          "name": "stdout",
          "text": [
            "+-------+---------+------------+---+---------+\n",
            "|country|teamLevel|platformType|age|continent|\n",
            "+-------+---------+------------+---+---------+\n",
            "|     DO|        1|     android| 58|       NA|\n",
            "|     VE|        1|      iphone| 39|       SA|\n",
            "|     LT|        1|      iphone| 57|       EU|\n",
            "|     PK|        1|     android| 28|       AS|\n",
            "|     ZM|        1|     android| 49|       AF|\n",
            "|     GT|        1|     android| 60|       NA|\n",
            "|     AT|        1|      iphone| 45|       EU|\n",
            "|     MR|        1|     desktop| 47|       AF|\n",
            "|     AO|        1|     android| 22|       AF|\n",
            "|     BB|        1|      iphone| 33|       NA|\n",
            "|     MN|        1|      iphone| 54|       AS|\n",
            "|     SV|        1|      iphone| 69|       NA|\n",
            "|     RO|        1|      iphone| 34|       EU|\n",
            "|     GF|        1|     android| 29|       SA|\n",
            "|     SO|        1|     android| 47|       AF|\n",
            "|     BV|        1|      iphone| 46|       AN|\n",
            "|     IL|        1|     android| 55|       AS|\n",
            "|     UY|        1|     android| 52|       SA|\n",
            "|     PH|        1|     android| 57|       AS|\n",
            "|     RS|        1|      iphone| 44|       EU|\n",
            "+-------+---------+------------+---+---------+\n",
            "only showing top 20 rows\n",
            "\n"
          ]
        }
      ]
    },
    {
      "cell_type": "markdown",
      "source": [
        "### Categorical Data Encoding\n",
        "Encoding Categorical Values"
      ],
      "metadata": {
        "id": "Bjqn7CcHkTyh"
      }
    },
    {
      "cell_type": "code",
      "source": [
        "#Creating a String Indexer instance\n",
        "indexer = StringIndexer(inputCol='continent', outputCol='encoded_continent_label')"
      ],
      "metadata": {
        "id": "IYI-dXIVVpaC"
      },
      "execution_count": null,
      "outputs": []
    },
    {
      "cell_type": "code",
      "source": [
        "#Indexer identifies categories in data\n",
        "indexer_model = indexer.fit(cleaned_continent_df)"
      ],
      "metadata": {
        "id": "BiU9Dfq1VtLp"
      },
      "execution_count": null,
      "outputs": []
    },
    {
      "cell_type": "code",
      "source": [
        "# Indexer creates a new column with numeric index values\n",
        "combined_df_indexed = indexer_model.transform(cleaned_continent_df)"
      ],
      "metadata": {
        "id": "8aSu5o7-Vvv_"
      },
      "execution_count": null,
      "outputs": []
    },
    {
      "cell_type": "code",
      "source": [
        "# Repeat the process for the platformType\n",
        "cols_indexed = StringIndexer(inputCol='platformType', outputCol='label').fit(combined_df_indexed).transform(combined_df_indexed)"
      ],
      "metadata": {
        "id": "SEoJuYAfV0G4"
      },
      "execution_count": null,
      "outputs": []
    },
    {
      "cell_type": "code",
      "source": [
        "#Ensuring encoding has been applied\n",
        "cols_indexed.show()"
      ],
      "metadata": {
        "colab": {
          "base_uri": "https://localhost:8080/"
        },
        "id": "bhUR2foPkWbG",
        "outputId": "b3f31eb7-4927-439f-9bff-5487ae42d25d"
      },
      "execution_count": null,
      "outputs": [
        {
          "output_type": "stream",
          "name": "stdout",
          "text": [
            "+-------+---------+------------+---+---------+-----------------------+-----+\n",
            "|country|teamLevel|platformType|age|continent|encoded_continent_label|label|\n",
            "+-------+---------+------------+---+---------+-----------------------+-----+\n",
            "|     DO|        1|     android| 58|       NA|                    3.0|  1.0|\n",
            "|     VE|        1|      iphone| 39|       SA|                    5.0|  0.0|\n",
            "|     LT|        1|      iphone| 57|       EU|                    2.0|  0.0|\n",
            "|     PK|        1|     android| 28|       AS|                    1.0|  1.0|\n",
            "|     ZM|        1|     android| 49|       AF|                    0.0|  1.0|\n",
            "|     GT|        1|     android| 60|       NA|                    3.0|  1.0|\n",
            "|     AT|        1|      iphone| 45|       EU|                    2.0|  0.0|\n",
            "|     MR|        1|     desktop| 47|       AF|                    0.0|  2.0|\n",
            "|     AO|        1|     android| 22|       AF|                    0.0|  1.0|\n",
            "|     BB|        1|      iphone| 33|       NA|                    3.0|  0.0|\n",
            "|     MN|        1|      iphone| 54|       AS|                    1.0|  0.0|\n",
            "|     SV|        1|      iphone| 69|       NA|                    3.0|  0.0|\n",
            "|     RO|        1|      iphone| 34|       EU|                    2.0|  0.0|\n",
            "|     GF|        1|     android| 29|       SA|                    5.0|  1.0|\n",
            "|     SO|        1|     android| 47|       AF|                    0.0|  1.0|\n",
            "|     BV|        1|      iphone| 46|       AN|                    7.0|  0.0|\n",
            "|     IL|        1|     android| 55|       AS|                    1.0|  1.0|\n",
            "|     UY|        1|     android| 52|       SA|                    5.0|  1.0|\n",
            "|     PH|        1|     android| 57|       AS|                    1.0|  1.0|\n",
            "|     RS|        1|      iphone| 44|       EU|                    2.0|  0.0|\n",
            "+-------+---------+------------+---+---------+-----------------------+-----+\n",
            "only showing top 20 rows\n",
            "\n"
          ]
        }
      ]
    },
    {
      "cell_type": "markdown",
      "source": [
        "## Feature Selection"
      ],
      "metadata": {
        "id": "SIyfwO00mhrc"
      }
    },
    {
      "cell_type": "markdown",
      "source": [
        "Consolidate all predictor columns into a single vector."
      ],
      "metadata": {
        "id": "6zEx2Uknmriv"
      }
    },
    {
      "cell_type": "code",
      "source": [
        "#Creating an assembler object\n",
        "assembler = VectorAssembler(inputCols=[\n",
        "'teamLevel', 'encoded_continent_label','age'], outputCol='features')"
      ],
      "metadata": {
        "id": "FJRj0eM8mu_d"
      },
      "execution_count": null,
      "outputs": []
    },
    {
      "cell_type": "code",
      "source": [
        "#Consolidating predictor columns\n",
        "df_assembled = assembler.transform(cols_indexed)"
      ],
      "metadata": {
        "id": "H_RypOxqnAp1"
      },
      "execution_count": null,
      "outputs": []
    },
    {
      "cell_type": "code",
      "source": [
        "# Checking resulting dataframe\n",
        "df_assembled.select('features', 'label').show(5, truncate=False)"
      ],
      "metadata": {
        "colab": {
          "base_uri": "https://localhost:8080/"
        },
        "id": "sNjnOFPPnIfQ",
        "outputId": "3547a831-86a9-4d6a-bf29-9fd8147382f7"
      },
      "execution_count": null,
      "outputs": [
        {
          "output_type": "stream",
          "name": "stdout",
          "text": [
            "+--------------+-----+\n",
            "|features      |label|\n",
            "+--------------+-----+\n",
            "|[1.0,3.0,58.0]|1.0  |\n",
            "|[1.0,5.0,39.0]|0.0  |\n",
            "|[1.0,2.0,57.0]|0.0  |\n",
            "|[1.0,1.0,28.0]|1.0  |\n",
            "|[1.0,0.0,49.0]|1.0  |\n",
            "+--------------+-----+\n",
            "only showing top 5 rows\n",
            "\n"
          ]
        }
      ]
    },
    {
      "cell_type": "markdown",
      "source": [
        "# Data Splitting"
      ],
      "metadata": {
        "id": "k_KEQ81Bf8W0"
      }
    },
    {
      "cell_type": "markdown",
      "source": [
        "Splitting the df_assembled into train and test subsets at a 70:30 ratio (train:test)."
      ],
      "metadata": {
        "id": "lfeyLn_BgDLT"
      }
    },
    {
      "cell_type": "code",
      "source": [
        "train_df, test_df = df_assembled.randomSplit(weights=[0.7, 0.3], seed=42)"
      ],
      "metadata": {
        "id": "hM0MsRsF4C5K"
      },
      "execution_count": null,
      "outputs": []
    },
    {
      "cell_type": "code",
      "source": [
        "#Counting the number of records in training subset\n",
        "train_df.count()"
      ],
      "metadata": {
        "colab": {
          "base_uri": "https://localhost:8080/"
        },
        "id": "lGMfIP-U2kac",
        "outputId": "06ba9f16-eb76-4373-b420-3ce770e8ed6d"
      },
      "execution_count": null,
      "outputs": [
        {
          "output_type": "execute_result",
          "data": {
            "text/plain": [
              "3302"
            ]
          },
          "metadata": {},
          "execution_count": 79
        }
      ]
    },
    {
      "cell_type": "code",
      "source": [
        "#Counting the number of records in testing subset\n",
        "test_df.count()"
      ],
      "metadata": {
        "colab": {
          "base_uri": "https://localhost:8080/"
        },
        "id": "5jKcelKQ2oVr",
        "outputId": "ceaa04d4-1cb9-423c-9d5c-7354e2f4d410"
      },
      "execution_count": null,
      "outputs": [
        {
          "output_type": "execute_result",
          "data": {
            "text/plain": [
              "1323"
            ]
          },
          "metadata": {},
          "execution_count": 80
        }
      ]
    },
    {
      "cell_type": "code",
      "source": [
        "train_df.show()"
      ],
      "metadata": {
        "colab": {
          "base_uri": "https://localhost:8080/"
        },
        "id": "a0Mx_UJk2uar",
        "outputId": "35092a06-e416-44c7-ac9f-8f2e97836806"
      },
      "execution_count": null,
      "outputs": [
        {
          "output_type": "stream",
          "name": "stdout",
          "text": [
            "+-------+---------+------------+---+---------+-----------------------+-----+--------------+\n",
            "|country|teamLevel|platformType|age|continent|encoded_continent_label|label|      features|\n",
            "+-------+---------+------------+---+---------+-----------------------+-----+--------------+\n",
            "|     AD|        1|     android| 58|       EU|                    2.0|  1.0|[1.0,2.0,58.0]|\n",
            "|     AD|        1|     desktop| 22|       EU|                    2.0|  2.0|[1.0,2.0,22.0]|\n",
            "|     AD|        2|     android| 58|       EU|                    2.0|  1.0|[2.0,2.0,58.0]|\n",
            "|     AD|        2|     desktop| 22|       EU|                    2.0|  2.0|[2.0,2.0,22.0]|\n",
            "|     AD|        3|     android| 39|       EU|                    2.0|  1.0|[3.0,2.0,39.0]|\n",
            "|     AD|        3|     desktop| 22|       EU|                    2.0|  2.0|[3.0,2.0,22.0]|\n",
            "|     AD|        4|     android| 58|       EU|                    2.0|  1.0|[4.0,2.0,58.0]|\n",
            "|     AD|        4|     desktop| 22|       EU|                    2.0|  2.0|[4.0,2.0,22.0]|\n",
            "|     AD|        4|      iphone| 35|       EU|                    2.0|  0.0|[4.0,2.0,35.0]|\n",
            "|     AD|        5|      iphone| 35|       EU|                    2.0|  0.0|[5.0,2.0,35.0]|\n",
            "|     AD|        6|     android| 39|       EU|                    2.0|  1.0|[6.0,2.0,39.0]|\n",
            "|     AD|        6|     android| 58|       EU|                    2.0|  1.0|[6.0,2.0,58.0]|\n",
            "|     AD|        6|      iphone| 35|       EU|                    2.0|  0.0|[6.0,2.0,35.0]|\n",
            "|     AD|        7|     desktop| 22|       EU|                    2.0|  2.0|[7.0,2.0,22.0]|\n",
            "|     AE|        2|     android| 22|       AS|                    1.0|  1.0|[2.0,1.0,22.0]|\n",
            "|     AE|        2|      iphone| 21|       AS|                    1.0|  0.0|[2.0,1.0,21.0]|\n",
            "|     AE|        2|      iphone| 23|       AS|                    1.0|  0.0|[2.0,1.0,23.0]|\n",
            "|     AE|        3|      iphone| 23|       AS|                    1.0|  0.0|[3.0,1.0,23.0]|\n",
            "|     AE|        4|     android| 47|       AS|                    1.0|  1.0|[4.0,1.0,47.0]|\n",
            "|     AE|        5|     android| 22|       AS|                    1.0|  1.0|[5.0,1.0,22.0]|\n",
            "+-------+---------+------------+---+---------+-----------------------+-----+--------------+\n",
            "only showing top 20 rows\n",
            "\n"
          ]
        }
      ]
    },
    {
      "cell_type": "code",
      "source": [
        "test_df.show()"
      ],
      "metadata": {
        "colab": {
          "base_uri": "https://localhost:8080/"
        },
        "id": "06Iop7dH476r",
        "outputId": "77746edf-cf19-41e0-c2a7-99dcf3100c58"
      },
      "execution_count": null,
      "outputs": [
        {
          "output_type": "stream",
          "name": "stdout",
          "text": [
            "+-------+---------+------------+---+---------+-----------------------+-----+--------------+\n",
            "|country|teamLevel|platformType|age|continent|encoded_continent_label|label|      features|\n",
            "+-------+---------+------------+---+---------+-----------------------+-----+--------------+\n",
            "|     AD|        2|     android| 39|       EU|                    2.0|  1.0|[2.0,2.0,39.0]|\n",
            "|     AD|        3|     android| 58|       EU|                    2.0|  1.0|[3.0,2.0,58.0]|\n",
            "|     AD|        3|      iphone| 35|       EU|                    2.0|  0.0|[3.0,2.0,35.0]|\n",
            "|     AD|        4|     android| 39|       EU|                    2.0|  1.0|[4.0,2.0,39.0]|\n",
            "|     AD|        5|     android| 39|       EU|                    2.0|  1.0|[5.0,2.0,39.0]|\n",
            "|     AD|        5|     android| 58|       EU|                    2.0|  1.0|[5.0,2.0,58.0]|\n",
            "|     AD|        5|     desktop| 22|       EU|                    2.0|  2.0|[5.0,2.0,22.0]|\n",
            "|     AD|        6|     desktop| 22|       EU|                    2.0|  2.0|[6.0,2.0,22.0]|\n",
            "|     AD|        7|     android| 58|       EU|                    2.0|  1.0|[7.0,2.0,58.0]|\n",
            "|     AE|        1|      iphone| 21|       AS|                    1.0|  0.0|[1.0,1.0,21.0]|\n",
            "|     AE|        1|      iphone| 23|       AS|                    1.0|  0.0|[1.0,1.0,23.0]|\n",
            "|     AE|        3|     android| 22|       AS|                    1.0|  1.0|[3.0,1.0,22.0]|\n",
            "|     AE|        3|     android| 47|       AS|                    1.0|  1.0|[3.0,1.0,47.0]|\n",
            "|     AE|        3|      iphone| 21|       AS|                    1.0|  0.0|[3.0,1.0,21.0]|\n",
            "|     AE|        4|     android| 22|       AS|                    1.0|  1.0|[4.0,1.0,22.0]|\n",
            "|     AE|        4|      iphone| 21|       AS|                    1.0|  0.0|[4.0,1.0,21.0]|\n",
            "|     AE|        4|      iphone| 23|       AS|                    1.0|  0.0|[4.0,1.0,23.0]|\n",
            "|     AE|        5|      iphone| 23|       AS|                    1.0|  0.0|[5.0,1.0,23.0]|\n",
            "|     AE|        6|      iphone| 20|       AS|                    1.0|  0.0|[6.0,1.0,20.0]|\n",
            "|     AE|        6|      iphone| 21|       AS|                    1.0|  0.0|[6.0,1.0,21.0]|\n",
            "+-------+---------+------------+---+---------+-----------------------+-----+--------------+\n",
            "only showing top 20 rows\n",
            "\n"
          ]
        }
      ]
    },
    {
      "cell_type": "code",
      "source": [
        "#Calculating the ratio of training subset\n",
        "training_ratio = train_df.count() / df_assembled.count()\n",
        "print(training_ratio)"
      ],
      "metadata": {
        "colab": {
          "base_uri": "https://localhost:8080/"
        },
        "id": "uRAwTf7UoSVs",
        "outputId": "1fa40997-12b7-4cab-ded8-f2f47c53a2bb"
      },
      "execution_count": null,
      "outputs": [
        {
          "output_type": "stream",
          "name": "stdout",
          "text": [
            "0.713945945945946\n"
          ]
        }
      ]
    },
    {
      "cell_type": "markdown",
      "source": [
        "# Model Building"
      ],
      "metadata": {
        "id": "Qd18W--LoeZd"
      }
    },
    {
      "cell_type": "markdown",
      "source": [
        "## Decision Tree"
      ],
      "metadata": {
        "id": "NyACIa0dKIeC"
      }
    },
    {
      "cell_type": "code",
      "source": [
        "#Creating a tree classifier object\n",
        "tree = DecisionTreeClassifier()\n",
        "\n",
        "#Fitting tree to training data\n",
        "tree_model = tree.fit(train_df)"
      ],
      "metadata": {
        "id": "-X4L1xt5rTRv"
      },
      "execution_count": null,
      "outputs": []
    },
    {
      "cell_type": "code",
      "source": [
        "#Creating predictions for testing data\n",
        "tree_prediction = tree_model.transform(test_df)\n",
        "\n",
        "#Viewing predictions\n",
        "tree_prediction.select('label', 'prediction', 'probability').show(50, False)"
      ],
      "metadata": {
        "colab": {
          "base_uri": "https://localhost:8080/"
        },
        "id": "xb0QXAlBrW-N",
        "outputId": "d1caf87b-5245-4a1b-b821-0d42742a54d8"
      },
      "execution_count": null,
      "outputs": [
        {
          "output_type": "stream",
          "name": "stdout",
          "text": [
            "+-----+----------+------------------------------------------------------------+\n",
            "|label|prediction|probability                                                 |\n",
            "+-----+----------+------------------------------------------------------------+\n",
            "|1.0  |0.0       |[0.41375545851528384,0.3482532751091703,0.23799126637554585]|\n",
            "|1.0  |1.0       |[0.2389937106918239,0.6163522012578616,0.14465408805031446] |\n",
            "|0.0  |0.0       |[0.41375545851528384,0.3482532751091703,0.23799126637554585]|\n",
            "|1.0  |0.0       |[0.41375545851528384,0.3482532751091703,0.23799126637554585]|\n",
            "|1.0  |0.0       |[0.41375545851528384,0.3482532751091703,0.23799126637554585]|\n",
            "|1.0  |1.0       |[0.2389937106918239,0.6163522012578616,0.14465408805031446] |\n",
            "|2.0  |0.0       |[0.4489795918367347,0.3177842565597668,0.23323615160349853] |\n",
            "|2.0  |0.0       |[0.4489795918367347,0.3177842565597668,0.23323615160349853] |\n",
            "|1.0  |1.0       |[0.2389937106918239,0.6163522012578616,0.14465408805031446] |\n",
            "|0.0  |0.0       |[0.4489795918367347,0.3177842565597668,0.23323615160349853] |\n",
            "|0.0  |0.0       |[0.4489795918367347,0.3177842565597668,0.23323615160349853] |\n",
            "|1.0  |0.0       |[0.4489795918367347,0.3177842565597668,0.23323615160349853] |\n",
            "|1.0  |0.0       |[0.41375545851528384,0.3482532751091703,0.23799126637554585]|\n",
            "|0.0  |0.0       |[0.4489795918367347,0.3177842565597668,0.23323615160349853] |\n",
            "|1.0  |0.0       |[0.4489795918367347,0.3177842565597668,0.23323615160349853] |\n",
            "|0.0  |0.0       |[0.4489795918367347,0.3177842565597668,0.23323615160349853] |\n",
            "|0.0  |0.0       |[0.4489795918367347,0.3177842565597668,0.23323615160349853] |\n",
            "|0.0  |0.0       |[0.4489795918367347,0.3177842565597668,0.23323615160349853] |\n",
            "|0.0  |0.0       |[0.4489795918367347,0.3177842565597668,0.23323615160349853] |\n",
            "|0.0  |0.0       |[0.4489795918367347,0.3177842565597668,0.23323615160349853] |\n",
            "|1.0  |0.0       |[0.4489795918367347,0.3177842565597668,0.23323615160349853] |\n",
            "|1.0  |0.0       |[0.41375545851528384,0.3482532751091703,0.23799126637554585]|\n",
            "|0.0  |0.0       |[0.4489795918367347,0.3177842565597668,0.23323615160349853] |\n",
            "|0.0  |0.0       |[0.4489795918367347,0.3177842565597668,0.23323615160349853] |\n",
            "|0.0  |0.0       |[0.41375545851528384,0.3482532751091703,0.23799126637554585]|\n",
            "|0.0  |0.0       |[0.41375545851528384,0.3482532751091703,0.23799126637554585]|\n",
            "|0.0  |0.0       |[0.41375545851528384,0.3482532751091703,0.23799126637554585]|\n",
            "|0.0  |1.0       |[0.2389937106918239,0.6163522012578616,0.14465408805031446] |\n",
            "|1.0  |0.0       |[0.4489795918367347,0.3177842565597668,0.23323615160349853] |\n",
            "|0.0  |0.0       |[0.6538461538461539,0.2692307692307692,0.07692307692307693] |\n",
            "|1.0  |0.0       |[0.4489795918367347,0.3177842565597668,0.23323615160349853] |\n",
            "|0.0  |0.0       |[0.6538461538461539,0.2692307692307692,0.07692307692307693] |\n",
            "|2.0  |0.0       |[0.41375545851528384,0.3482532751091703,0.23799126637554585]|\n",
            "|1.0  |0.0       |[0.4489795918367347,0.3177842565597668,0.23323615160349853] |\n",
            "|1.0  |1.0       |[0.1111111111111111,0.8888888888888888,0.0]                 |\n",
            "|1.0  |0.0       |[0.576,0.164,0.26]                                          |\n",
            "|0.0  |0.0       |[0.576,0.164,0.26]                                          |\n",
            "|0.0  |0.0       |[0.576,0.164,0.26]                                          |\n",
            "|0.0  |0.0       |[0.576,0.164,0.26]                                          |\n",
            "|0.0  |0.0       |[0.576,0.164,0.26]                                          |\n",
            "|0.0  |0.0       |[0.41375545851528384,0.3482532751091703,0.23799126637554585]|\n",
            "|1.0  |0.0       |[0.41375545851528384,0.3482532751091703,0.23799126637554585]|\n",
            "|1.0  |0.0       |[0.41375545851528384,0.3482532751091703,0.23799126637554585]|\n",
            "|1.0  |0.0       |[0.41375545851528384,0.3482532751091703,0.23799126637554585]|\n",
            "|0.0  |0.0       |[0.41375545851528384,0.3482532751091703,0.23799126637554585]|\n",
            "|1.0  |0.0       |[0.41375545851528384,0.3482532751091703,0.23799126637554585]|\n",
            "|0.0  |0.0       |[0.41375545851528384,0.3482532751091703,0.23799126637554585]|\n",
            "|0.0  |0.0       |[0.41375545851528384,0.3482532751091703,0.23799126637554585]|\n",
            "|2.0  |1.0       |[0.31343283582089554,0.5671641791044776,0.11940298507462686]|\n",
            "|2.0  |1.0       |[0.31343283582089554,0.5671641791044776,0.11940298507462686]|\n",
            "+-----+----------+------------------------------------------------------------+\n",
            "only showing top 50 rows\n",
            "\n"
          ]
        }
      ]
    },
    {
      "cell_type": "markdown",
      "source": [
        "### Evaluation"
      ],
      "metadata": {
        "id": "aG_ulq8X8tNu"
      }
    },
    {
      "cell_type": "code",
      "source": [
        "multi_evaluator = MulticlassClassificationEvaluator()\n",
        "predictionAndLabels = tree_prediction.select(\"prediction\", \"label\").rdd\n",
        "multiclass_metrics = MulticlassMetrics(predictionAndLabels)\n",
        "confusion_matrix = multiclass_metrics.confusionMatrix().toArray()"
      ],
      "metadata": {
        "colab": {
          "base_uri": "https://localhost:8080/"
        },
        "id": "FxCmwVXBdx4a",
        "outputId": "628c8bd7-5e7a-45de-f659-8e5ae686d696"
      },
      "execution_count": null,
      "outputs": [
        {
          "output_type": "stream",
          "name": "stderr",
          "text": [
            "/content/spark-3.2.1-bin-hadoop2.7/python/pyspark/sql/context.py:125: FutureWarning: Deprecated in 3.0.0. Use SparkSession.builder.getOrCreate() instead.\n",
            "  warnings.warn(\n"
          ]
        }
      ]
    },
    {
      "cell_type": "code",
      "source": [
        "#Calculating metrics for each possible class\n",
        "class_labels = test_df.select(\"label\").distinct().rdd.flatMap(lambda x: x).collect()\n",
        "metrics = {}\n",
        "\n",
        "for label in class_labels:\n",
        "  multi_evaluator.setMetricName(\"accuracy\")\n",
        "  multi_evaluator.setMetricLabel(label)\n",
        "  accuracy = multi_evaluator.evaluate(tree_prediction)\n",
        "  print(\"\\n Accuracy: \", accuracy)\n",
        "\n",
        "  multi_evaluator.setMetricName(\"weightedPrecision\")\n",
        "  multi_evaluator.setMetricLabel(label)\n",
        "  precision = multi_evaluator.evaluate(tree_prediction)\n",
        "  print(\"Precision: \", precision)\n",
        "\n",
        "  multi_evaluator.setMetricName(\"weightedRecall\")\n",
        "  multi_evaluator.setMetricLabel(label)\n",
        "  recall = multi_evaluator.evaluate(tree_prediction)\n",
        "  print(\"Recall: \", recall)\n",
        "\n",
        "  multi_evaluator.setMetricName(\"weightedFMeasure\")\n",
        "  multi_evaluator.setMetricLabel(label)\n",
        "  f1_score = multi_evaluator.evaluate(tree_prediction)\n",
        "  print(\"F1 Score: \", f1_score)\n",
        "\n",
        "  metrics[label] = {\"accuracy\": accuracy, \"precision\": precision, \"recall\": recall, \"f1-score\": f1_score}"
      ],
      "metadata": {
        "colab": {
          "base_uri": "https://localhost:8080/"
        },
        "id": "sguSvlK6gvDY",
        "outputId": "b56e9197-dadd-4987-9b64-2ba02bbca24b"
      },
      "execution_count": null,
      "outputs": [
        {
          "output_type": "stream",
          "name": "stdout",
          "text": [
            "\n",
            " Accuracy:  0.46938775510204084\n",
            "Precision:  0.48312160616635985\n",
            "Recall:  0.46938775510204084\n",
            "F1 Score:  0.4407122466134632\n",
            "\n",
            " Accuracy:  0.46938775510204084\n",
            "Precision:  0.48312160616635985\n",
            "Recall:  0.46938775510204084\n",
            "F1 Score:  0.4407122466134632\n",
            "\n",
            " Accuracy:  0.46938775510204084\n",
            "Precision:  0.48312160616635985\n",
            "Recall:  0.46938775510204084\n",
            "F1 Score:  0.4407122466134632\n"
          ]
        }
      ]
    },
    {
      "cell_type": "code",
      "source": [
        "#Plotting a confusion matrix\n",
        "fig, ax = plt.subplots()\n",
        "im = ax.imshow(confusion_matrix, cmap=\"cool\")\n",
        "\n",
        "#Creating tick labels\n",
        "tick_labels = np.arange(len(class_labels))\n",
        "ax.set_xticks(tick_labels)\n",
        "ax.set_yticks(tick_labels)\n",
        "ax.set_xticklabels(class_labels, rotation=45)\n",
        "ax.set_yticklabels(class_labels)\n",
        "plt.xlabel(\"Predicted\")\n",
        "plt.ylabel(\"Actual\")\n",
        "\n",
        "#Adding colourbar for visual indication\n",
        "cbar = ax.figure.colorbar(im, ax=ax)\n",
        "cbar.ax.set_ylabel(\"Count\", rotation=-90, va=\"bottom\")\n",
        "\n",
        "#Adding values\n",
        "for i in range(len(class_labels)):\n",
        "  for j in range(len(class_labels)):\n",
        "    text = ax.text(j, i, int(confusion_matrix[i, j]), ha=\"center\", va=\"center\", color=\"black\")\n",
        "\n",
        "plt.title(\"Confusion Matrix for Decision Tree Classifier\")"
      ],
      "metadata": {
        "colab": {
          "base_uri": "https://localhost:8080/",
          "height": 501
        },
        "id": "51wwVKZ7eYud",
        "outputId": "56a51997-9c21-44a6-86f7-d1c003c521b2"
      },
      "execution_count": null,
      "outputs": [
        {
          "output_type": "execute_result",
          "data": {
            "text/plain": [
              "Text(0.5, 1.0, 'Confusion Matrix for Decision Tree Classifier')"
            ]
          },
          "metadata": {},
          "execution_count": 88
        },
        {
          "output_type": "display_data",
          "data": {
            "text/plain": [
              "<Figure size 640x480 with 2 Axes>"
            ],
            "image/png": "[encoded data removed]"
          },
          "metadata": {}
        }
      ]
    },
    {
      "cell_type": "markdown",
      "source": [
        "## Random Forest"
      ],
      "metadata": {
        "id": "hHekMK_GKUxf"
      }
    },
    {
      "cell_type": "code",
      "source": [
        "#Creating a random forest classifier object\n",
        "random_forest = RandomForestClassifier()\n",
        "\n",
        "#Fitting random forest classifier to training data\n",
        "rf_model = random_forest.fit(train_df)"
      ],
      "metadata": {
        "id": "1wviyIKTKTzG"
      },
      "execution_count": null,
      "outputs": []
    },
    {
      "cell_type": "code",
      "source": [
        "#Creating predictions for testing data\n",
        "rf_prediction = rf_model.transform(test_df)\n",
        "\n",
        "#Viewing predictions\n",
        "rf_prediction.select('label', 'prediction', 'probability').show(10)"
      ],
      "metadata": {
        "colab": {
          "base_uri": "https://localhost:8080/"
        },
        "id": "lwUuByYGO4Kb",
        "outputId": "408bea4e-526f-4cb8-babf-d00c7eec5715"
      },
      "execution_count": null,
      "outputs": [
        {
          "output_type": "stream",
          "name": "stdout",
          "text": [
            "+-----+----------+--------------------+\n",
            "|label|prediction|         probability|\n",
            "+-----+----------+--------------------+\n",
            "|  1.0|       0.0|[0.43408878316534...|\n",
            "|  1.0|       1.0|[0.38510676555301...|\n",
            "|  0.0|       0.0|[0.42563294379342...|\n",
            "|  1.0|       0.0|[0.42070051062726...|\n",
            "|  1.0|       0.0|[0.42070051062726...|\n",
            "|  1.0|       1.0|[0.38412567808256...|\n",
            "|  2.0|       0.0|[0.42922412214763...|\n",
            "|  2.0|       0.0|[0.42922412214763...|\n",
            "|  1.0|       1.0|[0.39180880771540...|\n",
            "|  0.0|       0.0|[0.44329314711082...|\n",
            "+-----+----------+--------------------+\n",
            "only showing top 10 rows\n",
            "\n"
          ]
        }
      ]
    },
    {
      "cell_type": "markdown",
      "source": [
        "### Evaluation"
      ],
      "metadata": {
        "id": "1wqbSdD3PWBc"
      }
    },
    {
      "cell_type": "code",
      "source": [
        "multi_evaluator = MulticlassClassificationEvaluator()\n",
        "predictionAndLabels = rf_prediction.select(\"prediction\", \"label\").rdd\n",
        "multiclass_metrics = MulticlassMetrics(predictionAndLabels)\n",
        "confusion_matrix = multiclass_metrics.confusionMatrix().toArray()"
      ],
      "metadata": {
        "id": "t9f_KX42TeDY"
      },
      "execution_count": null,
      "outputs": []
    },
    {
      "cell_type": "code",
      "source": [
        "#Calculating metrics for each possible class\n",
        "class_labels = test_df.select(\"label\").distinct().rdd.flatMap(lambda x: x).collect()\n",
        "metrics = {}\n",
        "\n",
        "for label in class_labels:\n",
        "  multi_evaluator.setMetricName(\"accuracy\")\n",
        "  multi_evaluator.setMetricLabel(label)\n",
        "  accuracy = multi_evaluator.evaluate(rf_prediction)\n",
        "  print(\"\\n Accuracy: \", accuracy)\n",
        "\n",
        "  multi_evaluator.setMetricName(\"weightedPrecision\")\n",
        "  multi_evaluator.setMetricLabel(label)\n",
        "  precision = multi_evaluator.evaluate(rf_prediction)\n",
        "  print(\"Precision: \", precision)\n",
        "\n",
        "  multi_evaluator.setMetricName(\"weightedRecall\")\n",
        "  multi_evaluator.setMetricLabel(label)\n",
        "  recall = multi_evaluator.evaluate(rf_prediction)\n",
        "  print(\"Recall: \", recall)\n",
        "\n",
        "  multi_evaluator.setMetricName(\"weightedFMeasure\")\n",
        "  multi_evaluator.setMetricLabel(label)\n",
        "  f1_score = multi_evaluator.evaluate(rf_prediction)\n",
        "  print(\"F1 Score: \", f1_score)\n",
        "\n",
        "  metrics[label] = {\"accuracy\": accuracy, \"precision\": precision, \"recall\": recall, \"f1-score\": f1_score}"
      ],
      "metadata": {
        "colab": {
          "base_uri": "https://localhost:8080/"
        },
        "outputId": "75e54895-0d60-4b11-903c-6bd38e04ec1e",
        "id": "BAme-l9oTeDm"
      },
      "execution_count": null,
      "outputs": [
        {
          "output_type": "stream",
          "name": "stdout",
          "text": [
            "\n",
            " Accuracy:  0.46863189720332576\n",
            "Precision:  0.47783525620260314\n",
            "Recall:  0.46863189720332576\n",
            "F1 Score:  0.4266037404070654\n",
            "\n",
            " Accuracy:  0.46863189720332576\n",
            "Precision:  0.47783525620260314\n",
            "Recall:  0.46863189720332576\n",
            "F1 Score:  0.4266037404070654\n",
            "\n",
            " Accuracy:  0.46863189720332576\n",
            "Precision:  0.47783525620260314\n",
            "Recall:  0.46863189720332576\n",
            "F1 Score:  0.4266037404070654\n"
          ]
        }
      ]
    },
    {
      "cell_type": "code",
      "source": [
        "#Plotting a confusion matrix\n",
        "fig, ax = plt.subplots()\n",
        "im = ax.imshow(confusion_matrix, cmap=\"cool\")\n",
        "\n",
        "#Creating tick labels\n",
        "tick_labels = np.arange(len(class_labels))\n",
        "ax.set_xticks(tick_labels)\n",
        "ax.set_yticks(tick_labels)\n",
        "ax.set_xticklabels(class_labels, rotation=45)\n",
        "ax.set_yticklabels(class_labels)\n",
        "plt.xlabel(\"Predicted\")\n",
        "plt.ylabel(\"Actual\")\n",
        "\n",
        "#Adding colourbar for visual indication\n",
        "cbar = ax.figure.colorbar(im, ax=ax)\n",
        "cbar.ax.set_ylabel(\"Count\", rotation=-90, va=\"bottom\")\n",
        "\n",
        "#Adding values\n",
        "for i in range(len(class_labels)):\n",
        "  for j in range(len(class_labels)):\n",
        "    text = ax.text(j, i, int(confusion_matrix[i, j]), ha=\"center\", va=\"center\", color=\"black\")\n",
        "\n",
        "plt.title(\"Confusion Matrix for Random Forest Classifier\")"
      ],
      "metadata": {
        "colab": {
          "base_uri": "https://localhost:8080/",
          "height": 501
        },
        "outputId": "96b227cb-3b47-4161-942e-39c00e132a26",
        "id": "En3XimTgTeDn"
      },
      "execution_count": null,
      "outputs": [
        {
          "output_type": "execute_result",
          "data": {
            "text/plain": [
              "Text(0.5, 1.0, 'Confusion Matrix for Random Forest Classifier')"
            ]
          },
          "metadata": {},
          "execution_count": 93
        },
        {
          "output_type": "display_data",
          "data": {
            "text/plain": [
              "<Figure size 640x480 with 2 Axes>"
            ],
            "image/png": "[encoded data removed]"
          },
          "metadata": {}
        }
      ]
    },
    {
      "cell_type": "markdown",
      "source": [
        "## Logistic Regression"
      ],
      "metadata": {
        "id": "C9U1MeOfQ675"
      }
    },
    {
      "cell_type": "code",
      "source": [
        "#Creating a logistic regression classifier object\n",
        "logistic_regression = LogisticRegression()\n",
        "\n",
        "#Fitting logistic regression classifier to training data\n",
        "lr_model = logistic_regression.fit(train_df)"
      ],
      "metadata": {
        "id": "EAEtqO26Q68F"
      },
      "execution_count": null,
      "outputs": []
    },
    {
      "cell_type": "code",
      "source": [
        "#Creating predictions for testing data\n",
        "lr_prediction = lr_model.transform(test_df)\n",
        "\n",
        "#Viewing predictions\n",
        "lr_prediction.select('label', 'prediction', 'probability').show(10)"
      ],
      "metadata": {
        "colab": {
          "base_uri": "https://localhost:8080/"
        },
        "outputId": "ffb0208f-7649-4b19-a0a9-189b081915fb",
        "id": "2-SkCwr9Q68F"
      },
      "execution_count": null,
      "outputs": [
        {
          "output_type": "stream",
          "name": "stdout",
          "text": [
            "+-----+----------+--------------------+\n",
            "|label|prediction|         probability|\n",
            "+-----+----------+--------------------+\n",
            "|  1.0|       0.0|[0.42619577191691...|\n",
            "|  1.0|       0.0|[0.41791271451769...|\n",
            "|  0.0|       0.0|[0.42589854861734...|\n",
            "|  1.0|       0.0|[0.42441834580300...|\n",
            "|  1.0|       0.0|[0.42335143951906...|\n",
            "|  1.0|       0.0|[0.41402650574088...|\n",
            "|  2.0|       0.0|[0.42482544292654...|\n",
            "|  2.0|       0.0|[0.42454205914733...|\n",
            "|  1.0|       1.0|[0.40973482498260...|\n",
            "|  0.0|       0.0|[0.40481897005516...|\n",
            "+-----+----------+--------------------+\n",
            "only showing top 10 rows\n",
            "\n"
          ]
        }
      ]
    },
    {
      "cell_type": "markdown",
      "source": [
        "### Evaluation"
      ],
      "metadata": {
        "id": "Bc3PRIKNQ68F"
      }
    },
    {
      "cell_type": "code",
      "source": [
        "multi_evaluator = MulticlassClassificationEvaluator()\n",
        "predictionAndLabels = lr_prediction.select(\"prediction\", \"label\").rdd\n",
        "multiclass_metrics = MulticlassMetrics(predictionAndLabels)\n",
        "confusion_matrix = multiclass_metrics.confusionMatrix().toArray()"
      ],
      "metadata": {
        "id": "zpun4bQlT-QP"
      },
      "execution_count": null,
      "outputs": []
    },
    {
      "cell_type": "code",
      "source": [
        "#Calculating metrics for each possible class\n",
        "class_labels = test_df.select(\"label\").distinct().rdd.flatMap(lambda x: x).collect()\n",
        "metrics = {}\n",
        "\n",
        "for label in class_labels:\n",
        "  multi_evaluator.setMetricName(\"accuracy\")\n",
        "  multi_evaluator.setMetricLabel(label)\n",
        "  accuracy = multi_evaluator.evaluate(lr_prediction)\n",
        "  print(\"\\n Accuracy: \", accuracy)\n",
        "\n",
        "  multi_evaluator.setMetricName(\"weightedPrecision\")\n",
        "  multi_evaluator.setMetricLabel(label)\n",
        "  precision = multi_evaluator.evaluate(lr_prediction)\n",
        "  print(\"Precision: \", precision)\n",
        "\n",
        "  multi_evaluator.setMetricName(\"weightedRecall\")\n",
        "  multi_evaluator.setMetricLabel(label)\n",
        "  recall = multi_evaluator.evaluate(lr_prediction)\n",
        "  print(\"Recall: \", recall)\n",
        "\n",
        "  multi_evaluator.setMetricName(\"weightedFMeasure\")\n",
        "  multi_evaluator.setMetricLabel(label)\n",
        "  f1_score = multi_evaluator.evaluate(lr_prediction)\n",
        "  print(\"F1 Score: \", f1_score)\n",
        "\n",
        "  metrics[label] = {\"accuracy\": accuracy, \"precision\": precision, \"recall\": recall, \"f1-score\": f1_score}"
      ],
      "metadata": {
        "colab": {
          "base_uri": "https://localhost:8080/"
        },
        "outputId": "67c90160-92b3-4959-cb14-015ae5f17544",
        "id": "YQZzTTw6T-QQ"
      },
      "execution_count": null,
      "outputs": [
        {
          "output_type": "stream",
          "name": "stdout",
          "text": [
            "\n",
            " Accuracy:  0.43159486016628873\n",
            "Precision:  0.34019194040318945\n",
            "Recall:  0.43159486016628873\n",
            "F1 Score:  0.34287304911460864\n",
            "\n",
            " Accuracy:  0.43159486016628873\n",
            "Precision:  0.34019194040318945\n",
            "Recall:  0.43159486016628873\n",
            "F1 Score:  0.34287304911460864\n",
            "\n",
            " Accuracy:  0.43159486016628873\n",
            "Precision:  0.34019194040318945\n",
            "Recall:  0.43159486016628873\n",
            "F1 Score:  0.34287304911460864\n"
          ]
        }
      ]
    },
    {
      "cell_type": "code",
      "source": [
        "#Plotting a confusion matrix\n",
        "fig, ax = plt.subplots()\n",
        "im = ax.imshow(confusion_matrix, cmap=\"cool\")\n",
        "\n",
        "#Creating tick labels\n",
        "tick_labels = np.arange(len(class_labels))\n",
        "ax.set_xticks(tick_labels)\n",
        "ax.set_yticks(tick_labels)\n",
        "ax.set_xticklabels(class_labels, rotation=45)\n",
        "ax.set_yticklabels(class_labels)\n",
        "plt.xlabel(\"Predicted\")\n",
        "plt.ylabel(\"Actual\")\n",
        "\n",
        "#Adding colourbar for visual indication\n",
        "cbar = ax.figure.colorbar(im, ax=ax)\n",
        "cbar.ax.set_ylabel(\"Count\", rotation=-90, va=\"bottom\")\n",
        "\n",
        "#Adding values\n",
        "for i in range(len(class_labels)):\n",
        "  for j in range(len(class_labels)):\n",
        "    text = ax.text(j, i, int(confusion_matrix[i, j]), ha=\"center\", va=\"center\", color=\"black\")\n",
        "\n",
        "plt.title(\"Confusion Matrix for Logistic Regression Classifier\")"
      ],
      "metadata": {
        "colab": {
          "base_uri": "https://localhost:8080/",
          "height": 501
        },
        "outputId": "4904ef05-5f40-4a56-fde4-998509f2a959",
        "id": "Mg13n9zuT-QQ"
      },
      "execution_count": null,
      "outputs": [
        {
          "output_type": "execute_result",
          "data": {
            "text/plain": [
              "Text(0.5, 1.0, 'Confusion Matrix for Logistic Regression Classifier')"
            ]
          },
          "metadata": {},
          "execution_count": 98
        },
        {
          "output_type": "display_data",
          "data": {
            "text/plain": [
              "<Figure size 640x480 with 2 Axes>"
            ],
            "image/png": "[encoded data removed]"
          },
          "metadata": {}
        }
      ]
    }
  ]
}